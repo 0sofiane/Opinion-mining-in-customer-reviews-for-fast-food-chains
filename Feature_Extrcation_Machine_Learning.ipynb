{
 "cells": [
  {
   "cell_type": "code",
   "execution_count": 38,
   "metadata": {},
   "outputs": [],
   "source": [
    "import re\n",
    "from textblob import TextBlob\n",
    "import numpy as np\n",
    "from textblob import Word\n",
    "from textblob.classifiers import NaiveBayesClassifier\n",
    "import nltk\n",
    "from nltk.probability import FreqDist\n",
    "import random\n",
    "import numpy as np\n",
    "from textblob import TextBlob\n",
    "import matplotlib.pyplot as plt\n",
    "import pandas as pd"
   ]
  },
  {
   "cell_type": "markdown",
   "metadata": {},
   "source": [
    "## Reading the  processed and projected data obtaned in the previous notebook"
   ]
  },
  {
   "cell_type": "code",
   "execution_count": 39,
   "metadata": {},
   "outputs": [],
   "source": [
    "with open(\"processed_file.txt\", \"r\") as fh:\n",
    "    data = fh.read().strip()\n",
    "    data = re.sub(r\"[^\\w\\s)]\", \"\", data)\n",
    "fh.close()"
   ]
  },
  {
   "cell_type": "code",
   "execution_count": 40,
   "metadata": {},
   "outputs": [
    {
     "data": {
      "text/plain": [
       "['believe it or not this used to be q really good mcdonalds the drive throuh is so slow it is frustrating but the service is always friendly food is normally luke warm my niece likes the toys from mcdonalds i wonder if i pull up to the window and say let me just get the toy woulf service be faster',\n",
       " 'SlowService']"
      ]
     },
     "execution_count": 40,
     "metadata": {},
     "output_type": "execute_result"
    }
   ],
   "source": [
    "lines = data.split(\"\\n\")\n",
    "paired = [item.split(\"\\t\") for item in lines] # to get the review  with its label\n",
    "paired[11]"
   ]
  },
  {
   "cell_type": "markdown",
   "metadata": {},
   "source": [
    "## Extracting Tokens in Reviews"
   ]
  },
  {
   "cell_type": "code",
   "execution_count": 41,
   "metadata": {},
   "outputs": [],
   "source": [
    "all_reviews = \"\".join([item[0] for item in paired]) ## all reviews\n",
    "tokens = nltk.word_tokenize(all_reviews)\n",
    "freq = nltk.FreqDist(tokens)\n",
    "tages = nltk.pos_tag(tokens)"
   ]
  },
  {
   "cell_type": "markdown",
   "metadata": {},
   "source": [
    "### The primary methods for feature selection is making bag of words. \n",
    "For each category of interesting words, we found the top frequent\n",
    "ones and put them in our bag."
   ]
  },
  {
   "cell_type": "markdown",
   "metadata": {},
   "source": [
    "### Most frequent unigrams"
   ]
  },
  {
   "cell_type": "code",
   "execution_count": 43,
   "metadata": {},
   "outputs": [
    {
     "data": {
      "text/plain": [
       "Text(0.5, 1.0, 'Most frequent unigrams')"
      ]
     },
     "execution_count": 43,
     "metadata": {},
     "output_type": "execute_result"
    },
    {
     "data": {
      "image/png": "[encoded data removed]",
      "text/plain": [
       "<Figure size 432x288 with 1 Axes>"
      ]
     },
     "metadata": {
      "needs_background": "light"
     },
     "output_type": "display_data"
    }
   ],
   "source": [
    "wordss = []\n",
    "valuess = []\n",
    "for k in freq.most_common(10):\n",
    "    wordss.append(k[0])\n",
    "    valuess.append(k[1])\n",
    "plt.bar(wordss, valuess)\n",
    "plt.xlabel('words')\n",
    "plt.ylabel('frequency')\n",
    "plt.title('Most frequent unigrams')\n"
   ]
  },
  {
   "cell_type": "markdown",
   "metadata": {},
   "source": [
    "### Most frequent bigrams"
   ]
  },
  {
   "cell_type": "code",
   "execution_count": 44,
   "metadata": {},
   "outputs": [
    {
     "data": {
      "text/html": [
       "<div>\n",
       "<style scoped>\n",
       "    .dataframe tbody tr th:only-of-type {\n",
       "        vertical-align: middle;\n",
       "    }\n",
       "\n",
       "    .dataframe tbody tr th {\n",
       "        vertical-align: top;\n",
       "    }\n",
       "\n",
       "    .dataframe thead th {\n",
       "        text-align: right;\n",
       "    }\n",
       "</style>\n",
       "<table border=\"1\" class=\"dataframe\">\n",
       "  <thead>\n",
       "    <tr style=\"text-align: right;\">\n",
       "      <th></th>\n",
       "      <th>bigram</th>\n",
       "      <th>frequency</th>\n",
       "    </tr>\n",
       "  </thead>\n",
       "  <tbody>\n",
       "    <tr>\n",
       "      <th>0</th>\n",
       "      <td>(the, food)</td>\n",
       "      <td>156</td>\n",
       "    </tr>\n",
       "    <tr>\n",
       "      <th>1</th>\n",
       "      <td>(out, of)</td>\n",
       "      <td>143</td>\n",
       "    </tr>\n",
       "    <tr>\n",
       "      <th>2</th>\n",
       "      <td>(so, i)</td>\n",
       "      <td>142</td>\n",
       "    </tr>\n",
       "    <tr>\n",
       "      <th>3</th>\n",
       "      <td>(to, this)</td>\n",
       "      <td>141</td>\n",
       "    </tr>\n",
       "    <tr>\n",
       "      <th>4</th>\n",
       "      <td>(this, place)</td>\n",
       "      <td>138</td>\n",
       "    </tr>\n",
       "  </tbody>\n",
       "</table>\n",
       "</div>"
      ],
      "text/plain": [
       "          bigram  frequency\n",
       "0    (the, food)        156\n",
       "1      (out, of)        143\n",
       "2        (so, i)        142\n",
       "3     (to, this)        141\n",
       "4  (this, place)        138"
      ]
     },
     "execution_count": 44,
     "metadata": {},
     "output_type": "execute_result"
    }
   ],
   "source": [
    "bigrams = nltk.bigrams(all_reviews.split(\" \"))\n",
    "bigram_freq = nltk.FreqDist(list(bigrams))\n",
    "sorted_bigram_freq = bigram_freq.most_common()\n",
    "lst1 = []\n",
    "lst2 = []\n",
    "for k in sorted_bigram_freq[20:80]:\n",
    "    lst1.append(k[0])\n",
    "    lst2.append(k[1])\n",
    "    \n",
    "df = pd.DataFrame(list(zip(lst1, lst2)),\n",
    "               columns =['bigram', 'frequency'])\n",
    "df.head()"
   ]
  },
  {
   "cell_type": "markdown",
   "metadata": {},
   "source": [
    "### Most frequent trigrams"
   ]
  },
  {
   "cell_type": "code",
   "execution_count": 46,
   "metadata": {},
   "outputs": [
    {
     "data": {
      "text/html": [
       "<div>\n",
       "<style scoped>\n",
       "    .dataframe tbody tr th:only-of-type {\n",
       "        vertical-align: middle;\n",
       "    }\n",
       "\n",
       "    .dataframe tbody tr th {\n",
       "        vertical-align: top;\n",
       "    }\n",
       "\n",
       "    .dataframe thead th {\n",
       "        text-align: right;\n",
       "    }\n",
       "</style>\n",
       "<table border=\"1\" class=\"dataframe\">\n",
       "  <thead>\n",
       "    <tr style=\"text-align: right;\">\n",
       "      <th></th>\n",
       "      <th>trigram</th>\n",
       "      <th>frequency</th>\n",
       "    </tr>\n",
       "  </thead>\n",
       "  <tbody>\n",
       "    <tr>\n",
       "      <th>0</th>\n",
       "      <td>(the, food, is)</td>\n",
       "      <td>40</td>\n",
       "    </tr>\n",
       "    <tr>\n",
       "      <th>1</th>\n",
       "      <td>(i, have, ever)</td>\n",
       "      <td>40</td>\n",
       "    </tr>\n",
       "    <tr>\n",
       "      <th>2</th>\n",
       "      <td>(the, worst, mcdonalds)</td>\n",
       "      <td>38</td>\n",
       "    </tr>\n",
       "    <tr>\n",
       "      <th>3</th>\n",
       "      <td>(go, to, this)</td>\n",
       "      <td>36</td>\n",
       "    </tr>\n",
       "    <tr>\n",
       "      <th>4</th>\n",
       "      <td>(i, asked, for)</td>\n",
       "      <td>35</td>\n",
       "    </tr>\n",
       "  </tbody>\n",
       "</table>\n",
       "</div>"
      ],
      "text/plain": [
       "                   trigram  frequency\n",
       "0          (the, food, is)         40\n",
       "1          (i, have, ever)         40\n",
       "2  (the, worst, mcdonalds)         38\n",
       "3           (go, to, this)         36\n",
       "4          (i, asked, for)         35"
      ]
     },
     "execution_count": 46,
     "metadata": {},
     "output_type": "execute_result"
    }
   ],
   "source": [
    "trigrams = nltk.trigrams(all_reviews.split(\" \"))\n",
    "trigram_freq = nltk.FreqDist(list(trigrams))\n",
    "sorted_trigram_freq = trigram_freq.most_common()\n",
    "\n",
    "lst1 = []\n",
    "lst2 = []\n",
    "for k in sorted_trigram_freq[10:20]:\n",
    "    lst1.append(k[0])\n",
    "    lst2.append(k[1])\n",
    "    \n",
    "df = pd.DataFrame(list(zip(lst1, lst2)),\n",
    "               columns =['trigram', 'frequency'])\n",
    "df.head()"
   ]
  },
  {
   "cell_type": "markdown",
   "metadata": {},
   "source": [
    "# Apply POS tagging for Lemmatizing\n",
    "This means labeling words in a sentence as nouns, adjectives, verbs...etc"
   ]
  },
  {
   "cell_type": "markdown",
   "metadata": {},
   "source": [
    "## Verb Lemmatizing\n",
    "\n",
    "We lemmatize all verbs. So am/is/are/was/were become __be__ and so on. "
   ]
  },
  {
   "cell_type": "code",
   "execution_count": 48,
   "metadata": {},
   "outputs": [],
   "source": [
    "wnl = nltk.WordNetLemmatizer()\n",
    "\n",
    "def verb_checker(pair):\n",
    "    if pair[1].startswith(\"V\"):\n",
    "        \n",
    "        return Word(pair[0]).lemmatize(\"v\")\n",
    "        #return wnl.lemmatize(pair[0])\n",
    "    else:\n",
    "        return pair[0]"
   ]
  },
  {
   "cell_type": "markdown",
   "metadata": {},
   "source": [
    "# Create new lemmitazed tokens (lemmitazed tokens will be assigned to new_tokens)"
   ]
  },
  {
   "cell_type": "code",
   "execution_count": 49,
   "metadata": {},
   "outputs": [
    {
     "data": {
      "text/plain": [
       "['im', 'not', 'a', 'huge', 'mcds']"
      ]
     },
     "execution_count": 49,
     "metadata": {},
     "output_type": "execute_result"
    }
   ],
   "source": [
    "new_tokens = [verb_checker(item) for item in tages] \n",
    "new_tokens[:5]\n"
   ]
  },
  {
   "cell_type": "code",
   "execution_count": 50,
   "metadata": {},
   "outputs": [
    {
     "data": {
      "text/plain": [
       "[('im', 'NN'), ('not', 'RB'), ('a', 'DT'), ('huge', 'JJ'), ('mcds', 'NN')]"
      ]
     },
     "execution_count": 50,
     "metadata": {},
     "output_type": "execute_result"
    }
   ],
   "source": [
    "new_tokens_tages = nltk.pos_tag(new_tokens)\n",
    "new_tokens_tages[:5]"
   ]
  },
  {
   "cell_type": "code",
   "execution_count": 22,
   "metadata": {},
   "outputs": [],
   "source": [
    "#nltk.pos_tag([\"token\", \"taken\"])"
   ]
  },
  {
   "cell_type": "markdown",
   "metadata": {},
   "source": [
    "### Generating a Dictionary of POS tags VB, NN, JJ, RB"
   ]
  },
  {
   "cell_type": "code",
   "execution_count": 51,
   "metadata": {},
   "outputs": [
    {
     "data": {
      "text/plain": [
       "Text(0.5, 1.0, 'bar chart of pos tags')"
      ]
     },
     "execution_count": 51,
     "metadata": {},
     "output_type": "execute_result"
    },
    {
     "data": {
      "image/png": "[encoded data removed]",
      "text/plain": [
       "<Figure size 432x288 with 1 Axes>"
      ]
     },
     "metadata": {
      "needs_background": "light"
     },
     "output_type": "display_data"
    }
   ],
   "source": [
    "dic_of_pos = {\"VB\":[], \"JJ\":[], \"RB\":[], \"NN\":[]}\n",
    "for token in set(new_tokens):\n",
    "    pair = nltk.pos_tag([token])[0]\n",
    "    if pair[1].startswith(\"VB\"):\n",
    "        dic_of_pos[\"VB\"].append(pair[0])\n",
    "    if pair[1].startswith(\"JJ\"):\n",
    "        dic_of_pos[\"JJ\"].append(pair[0])\n",
    "    if pair[1].startswith(\"NN\"):\n",
    "        dic_of_pos[\"NN\"].append(pair[0]) #adverb\n",
    "    if pair[1].startswith(\"RB\"):\n",
    "        dic_of_pos[\"RB\"].append(pair[0])\n",
    "types = list(dic_of_pos.keys())\n",
    "nb = [len(dic_of_pos[\"VB\"]), len(dic_of_pos[\"JJ\"]), len(dic_of_pos[\"NN\"]), len(dic_of_pos[\"RB\"])]\n",
    "\n",
    "plt.bar(types,nb, \n",
    "        width = 0.4)\n",
    "plt.xlabel('pos tags')\n",
    "plt.ylabel('frequency')\n",
    "plt.title('bar chart of pos tags')"
   ]
  },
  {
   "cell_type": "markdown",
   "metadata": {},
   "source": [
    "### Frequencies of new tokens"
   ]
  },
  {
   "cell_type": "code",
   "execution_count": 24,
   "metadata": {
    "scrolled": true
   },
   "outputs": [
    {
     "data": {
      "text/plain": [
       "Text(0.5, 1.0, 'Frequency of new tokens')"
      ]
     },
     "execution_count": 24,
     "metadata": {},
     "output_type": "execute_result"
    },
    {
     "data": {
      "image/png": "[encoded data removed]",
      "text/plain": [
       "<Figure size 432x288 with 1 Axes>"
      ]
     },
     "metadata": {
      "needs_background": "light"
     },
     "output_type": "display_data"
    }
   ],
   "source": [
    "new_tokens_freq = nltk.FreqDist(new_tokens)\n",
    "wordss = []\n",
    "valuess = []\n",
    "for k in new_tokens_freq.most_common(10):\n",
    "    wordss.append(k[0])\n",
    "    valuess.append(k[1])\n",
    "plt.bar(wordss, valuess)\n",
    "plt.xlabel('words')\n",
    "plt.ylabel('frequency')\n",
    "plt.title('Frequency of new tokens')\n",
    "\n"
   ]
  },
  {
   "cell_type": "markdown",
   "metadata": {},
   "source": [
    "## After lemmatizing words\n",
    " we filter over the noun, verbs, adjective, and adverbs to find the top frequent ones"
   ]
  },
  {
   "cell_type": "markdown",
   "metadata": {},
   "source": [
    "### We use the dictionary to extract most frequent verbs, adjecyives, adverbs and nouns"
   ]
  },
  {
   "cell_type": "code",
   "execution_count": 36,
   "metadata": {},
   "outputs": [
    {
     "data": {
      "text/html": [
       "<div>\n",
       "<style scoped>\n",
       "    .dataframe tbody tr th:only-of-type {\n",
       "        vertical-align: middle;\n",
       "    }\n",
       "\n",
       "    .dataframe tbody tr th {\n",
       "        vertical-align: top;\n",
       "    }\n",
       "\n",
       "    .dataframe thead th {\n",
       "        text-align: right;\n",
       "    }\n",
       "</style>\n",
       "<table border=\"1\" class=\"dataframe\">\n",
       "  <thead>\n",
       "    <tr style=\"text-align: right;\">\n",
       "      <th></th>\n",
       "      <th>verbs</th>\n",
       "      <th>frequency</th>\n",
       "    </tr>\n",
       "  </thead>\n",
       "  <tbody>\n",
       "    <tr>\n",
       "      <th>0</th>\n",
       "      <td>be</td>\n",
       "      <td>4998</td>\n",
       "    </tr>\n",
       "    <tr>\n",
       "      <th>1</th>\n",
       "      <td>have</td>\n",
       "      <td>1465</td>\n",
       "    </tr>\n",
       "    <tr>\n",
       "      <th>2</th>\n",
       "      <td>get</td>\n",
       "      <td>973</td>\n",
       "    </tr>\n",
       "    <tr>\n",
       "      <th>3</th>\n",
       "      <td>go</td>\n",
       "      <td>820</td>\n",
       "    </tr>\n",
       "    <tr>\n",
       "      <th>4</th>\n",
       "      <td>do</td>\n",
       "      <td>517</td>\n",
       "    </tr>\n",
       "  </tbody>\n",
       "</table>\n",
       "</div>"
      ],
      "text/plain": [
       "  verbs  frequency\n",
       "0    be       4998\n",
       "1  have       1465\n",
       "2   get        973\n",
       "3    go        820\n",
       "4    do        517"
      ]
     },
     "execution_count": 36,
     "metadata": {},
     "output_type": "execute_result"
    }
   ],
   "source": [
    "verbs = dic_of_pos[\"VB\"]\n",
    "verb_freq = [(item, new_tokens_freq[item]) for item in verbs]\n",
    "sorted_verb_freq = sorted(verb_freq, key = lambda x: x[1], reverse = True)\n",
    "\n",
    "lst1 = []\n",
    "lst2 = []\n",
    "for k in sorted_verb_freq[:10]:\n",
    "    lst1.append(k[0])\n",
    "    lst2.append(k[1])\n",
    "    \n",
    "df = pd.DataFrame(list(zip(lst1, lst2)),\n",
    "               columns =['verbs', 'frequency'])\n",
    "df.head()"
   ]
  },
  {
   "cell_type": "code",
   "execution_count": 34,
   "metadata": {},
   "outputs": [
    {
     "data": {
      "text/html": [
       "<div>\n",
       "<style scoped>\n",
       "    .dataframe tbody tr th:only-of-type {\n",
       "        vertical-align: middle;\n",
       "    }\n",
       "\n",
       "    .dataframe tbody tr th {\n",
       "        vertical-align: top;\n",
       "    }\n",
       "\n",
       "    .dataframe thead th {\n",
       "        text-align: right;\n",
       "    }\n",
       "</style>\n",
       "<table border=\"1\" class=\"dataframe\">\n",
       "  <thead>\n",
       "    <tr style=\"text-align: right;\">\n",
       "      <th></th>\n",
       "      <th>adjectives</th>\n",
       "      <th>frequency</th>\n",
       "    </tr>\n",
       "  </thead>\n",
       "  <tbody>\n",
       "    <tr>\n",
       "      <th>0</th>\n",
       "      <td>ive</td>\n",
       "      <td>198</td>\n",
       "    </tr>\n",
       "    <tr>\n",
       "      <th>1</th>\n",
       "      <td>other</td>\n",
       "      <td>190</td>\n",
       "    </tr>\n",
       "    <tr>\n",
       "      <th>2</th>\n",
       "      <td>good</td>\n",
       "      <td>169</td>\n",
       "    </tr>\n",
       "    <tr>\n",
       "      <th>3</th>\n",
       "      <td>wrong</td>\n",
       "      <td>162</td>\n",
       "    </tr>\n",
       "    <tr>\n",
       "      <th>4</th>\n",
       "      <td>worst</td>\n",
       "      <td>155</td>\n",
       "    </tr>\n",
       "  </tbody>\n",
       "</table>\n",
       "</div>"
      ],
      "text/plain": [
       "  adjectives  frequency\n",
       "0        ive        198\n",
       "1      other        190\n",
       "2       good        169\n",
       "3      wrong        162\n",
       "4      worst        155"
      ]
     },
     "execution_count": 34,
     "metadata": {},
     "output_type": "execute_result"
    }
   ],
   "source": [
    "adj = dic_of_pos[\"JJ\"]\n",
    "adj_freq = [(item, freq[item]) for item in adj ]\n",
    "sorted_adj_freq= sorted(adj_freq, key = lambda x:x[1], reverse = True)\n",
    "\n",
    "lst1 = []\n",
    "lst2 = []\n",
    "for k in sorted_adj_freq[:30]:\n",
    "    lst1.append(k[0])\n",
    "    lst2.append(k[1])\n",
    "    \n",
    "df = pd.DataFrame(list(zip(lst1, lst2)),\n",
    "               columns =['adjectives', 'frequency'])\n",
    "df.head()"
   ]
  },
  {
   "cell_type": "code",
   "execution_count": 32,
   "metadata": {},
   "outputs": [
    {
     "data": {
      "text/html": [
       "<div>\n",
       "<style scoped>\n",
       "    .dataframe tbody tr th:only-of-type {\n",
       "        vertical-align: middle;\n",
       "    }\n",
       "\n",
       "    .dataframe tbody tr th {\n",
       "        vertical-align: top;\n",
       "    }\n",
       "\n",
       "    .dataframe thead th {\n",
       "        text-align: right;\n",
       "    }\n",
       "</style>\n",
       "<table border=\"1\" class=\"dataframe\">\n",
       "  <thead>\n",
       "    <tr style=\"text-align: right;\">\n",
       "      <th></th>\n",
       "      <th>noun</th>\n",
       "      <th>frequency</th>\n",
       "    </tr>\n",
       "  </thead>\n",
       "  <tbody>\n",
       "    <tr>\n",
       "      <th>0</th>\n",
       "      <td>i</td>\n",
       "      <td>3560</td>\n",
       "    </tr>\n",
       "    <tr>\n",
       "      <th>1</th>\n",
       "      <td>mcdonalds</td>\n",
       "      <td>953</td>\n",
       "    </tr>\n",
       "    <tr>\n",
       "      <th>2</th>\n",
       "      <td>order</td>\n",
       "      <td>731</td>\n",
       "    </tr>\n",
       "    <tr>\n",
       "      <th>3</th>\n",
       "      <td>food</td>\n",
       "      <td>657</td>\n",
       "    </tr>\n",
       "    <tr>\n",
       "      <th>4</th>\n",
       "      <td>time</td>\n",
       "      <td>448</td>\n",
       "    </tr>\n",
       "  </tbody>\n",
       "</table>\n",
       "</div>"
      ],
      "text/plain": [
       "        noun  frequency\n",
       "0          i       3560\n",
       "1  mcdonalds        953\n",
       "2      order        731\n",
       "3       food        657\n",
       "4       time        448"
      ]
     },
     "execution_count": 32,
     "metadata": {},
     "output_type": "execute_result"
    }
   ],
   "source": [
    "nouns = dic_of_pos[\"NN\"]\n",
    "noun_freq = [(item, freq[item]) for item in nouns]\n",
    "sorted_noun_freq = sorted(noun_freq, key = lambda x: x[1], reverse = True)\n",
    "\n",
    "lst1 = []\n",
    "lst2 = []\n",
    "for k in sorted_noun_freq[:30]:\n",
    "    lst1.append(k[0])\n",
    "    lst2.append(k[1])\n",
    "    \n",
    "df = pd.DataFrame(list(zip(lst1, lst2)),\n",
    "               columns =['noun', 'frequency'])\n",
    "df.head()"
   ]
  },
  {
   "cell_type": "code",
   "execution_count": 37,
   "metadata": {
    "scrolled": true
   },
   "outputs": [
    {
     "data": {
      "text/html": [
       "<div>\n",
       "<style scoped>\n",
       "    .dataframe tbody tr th:only-of-type {\n",
       "        vertical-align: middle;\n",
       "    }\n",
       "\n",
       "    .dataframe tbody tr th {\n",
       "        vertical-align: top;\n",
       "    }\n",
       "\n",
       "    .dataframe thead th {\n",
       "        text-align: right;\n",
       "    }\n",
       "</style>\n",
       "<table border=\"1\" class=\"dataframe\">\n",
       "  <thead>\n",
       "    <tr style=\"text-align: right;\">\n",
       "      <th></th>\n",
       "      <th>adverbs</th>\n",
       "      <th>frequency</th>\n",
       "    </tr>\n",
       "  </thead>\n",
       "  <tbody>\n",
       "    <tr>\n",
       "      <th>0</th>\n",
       "      <td>not</td>\n",
       "      <td>861</td>\n",
       "    </tr>\n",
       "    <tr>\n",
       "      <th>1</th>\n",
       "      <td>so</td>\n",
       "      <td>638</td>\n",
       "    </tr>\n",
       "    <tr>\n",
       "      <th>2</th>\n",
       "      <td>there</td>\n",
       "      <td>578</td>\n",
       "    </tr>\n",
       "    <tr>\n",
       "      <th>3</th>\n",
       "      <td>up</td>\n",
       "      <td>481</td>\n",
       "    </tr>\n",
       "    <tr>\n",
       "      <th>4</th>\n",
       "      <td>just</td>\n",
       "      <td>480</td>\n",
       "    </tr>\n",
       "  </tbody>\n",
       "</table>\n",
       "</div>"
      ],
      "text/plain": [
       "  adverbs  frequency\n",
       "0     not        861\n",
       "1      so        638\n",
       "2   there        578\n",
       "3      up        481\n",
       "4    just        480"
      ]
     },
     "execution_count": 37,
     "metadata": {},
     "output_type": "execute_result"
    }
   ],
   "source": [
    "adverbs = dic_of_pos[\"RB\"]\n",
    "adverb_freq = [(item, freq[item]) for item in adverbs]\n",
    "sorted_adverb_freq = sorted(adverb_freq, key = lambda x: x[1], reverse = True)\n",
    "\n",
    "lst1 = []\n",
    "lst2 = []\n",
    "for k in sorted_adverb_freq[:10]:\n",
    "    lst1.append(k[0])\n",
    "    lst2.append(k[1])\n",
    "    \n",
    "df = pd.DataFrame(list(zip(lst1, lst2)),\n",
    "               columns =['adverbs', 'frequency'])\n",
    "df.head()"
   ]
  },
  {
   "cell_type": "markdown",
   "metadata": {},
   "source": [
    "# By selecting a specific number of each, \n",
    "we build a binary dataset representing the existence\n",
    "of each of these words"
   ]
  },
  {
   "cell_type": "markdown",
   "metadata": {},
   "source": [
    "## Exctracting Boolean Features\n",
    "\n",
    "we use top frequents bigrams, trigrams, nouns, verbs, adjectives and adverbs as our featrures. How many of each we use is given in the following list:\n",
    "\n",
    "* Nouns: 100\n",
    "* Verbs: 100\n",
    "* Adjectives: 130\n",
    "* Adevrbs: 110\n",
    "* Bigrams: 100\n",
    "* Trigrams: 150"
   ]
  },
  {
   "cell_type": "code",
   "execution_count": 88,
   "metadata": {},
   "outputs": [
    {
     "data": {
      "text/plain": [
       "[('to', 'this', 'location'),\n",
       " ('i', 'asked'),\n",
       " 'night',\n",
       " 'big',\n",
       " ('i', 'went'),\n",
       " ('i', 'would', 'have'),\n",
       " ('the', 'only', 'thing'),\n",
       " 'corporate',\n",
       " ('the', 'staff'),\n",
       " ('by', 'far', 'the')]"
      ]
     },
     "execution_count": 88,
     "metadata": {},
     "output_type": "execute_result"
    }
   ],
   "source": [
    "def feature_giver(vec_of_which): ## the argument asks for the portion of each list: given above\n",
    "    ls = [sorted_noun_freq, sorted_verb_freq, sorted_adj_freq, sorted_adverb_freq, sorted_bigram_freq, sorted_trigram_freq]\n",
    "    features = []\n",
    "    for i in range(len(vec_of_which)):\n",
    "        our_desired_ls = ls[i]\n",
    "        features = features + our_desired_ls[:vec_of_which[i]]\n",
    "    return list(set(features))\n",
    "\n",
    "important_features = feature_giver([100,100,130,110, 100, 150]) \n",
    "import_words = [item[0] for item in important_features]\n",
    "import_words[:10]"
   ]
  },
  {
   "cell_type": "code",
   "execution_count": 89,
   "metadata": {},
   "outputs": [
    {
     "data": {
      "text/plain": [
       "'the drive through'"
      ]
     },
     "execution_count": 89,
     "metadata": {},
     "output_type": "execute_result"
    }
   ],
   "source": [
    "## The following fucntion takes a vector of strings and returns a signle string by concataning them\n",
    "def vec_to_str(inp):\n",
    "    if isinstance(inp,tuple):\n",
    "        res = \"\"\n",
    "        for x in inp:\n",
    "            for char in str(x):\n",
    "                res+=char\n",
    "            res+=\" \"\n",
    "    else:\n",
    "        res = inp\n",
    "    return res.strip()\n",
    "\n",
    "vec_to_str(('the', 'drive', 'through'))"
   ]
  },
  {
   "cell_type": "markdown",
   "metadata": {},
   "source": [
    "### For the features above, we generate a binary vector for each review"
   ]
  },
  {
   "cell_type": "code",
   "execution_count": 97,
   "metadata": {},
   "outputs": [
    {
     "data": {
      "text/plain": [
       "({'has(to this location)': 0,\n",
       "  'has(i asked)': 0,\n",
       "  'has(night)': 0,\n",
       "  'has(big)': 0,\n",
       "  'has(i went)': 0,\n",
       "  'has(i would have)': 0,\n",
       "  'has(the only thing)': 0,\n",
       "  'has(corporate)': 0,\n",
       "  'has(the staff)': 1,\n",
       "  'has(by far the)': 1,\n",
       "  'has(cant)': 0,\n",
       "  'has(the fact that)': 0,\n",
       "  'has(begging)': 0,\n",
       "  'has(there was a)': 0,\n",
       "  'has(great)': 0,\n",
       "  'has(at least)': 0,\n",
       "  'has(overpriced)': 0,\n",
       "  'has(i do not)': 0,\n",
       "  'has(i go)': 0,\n",
       "  'has(menu)': 0,\n",
       "  'has(i have ever)': 0,\n",
       "  'has(employee)': 0,\n",
       "  'has(believe)': 0,\n",
       "  'has(ask)': 0,\n",
       "  'has(home)': 0,\n",
       "  'has(literally)': 0,\n",
       "  'has(unsweetened)': 0,\n",
       "  'has(my order was)': 0,\n",
       "  'has(and there are)': 0,\n",
       "  'has(improve)': 0,\n",
       "  'has(i would)': 0,\n",
       "  'has(thinking)': 0,\n",
       "  'has(the employees are)': 0,\n",
       "  'has(i)': 1,\n",
       "  'has(quite)': 0,\n",
       "  'has(possibly)': 0,\n",
       "  'has(happy)': 0,\n",
       "  'has(iced)': 0,\n",
       "  'has(especially)': 0,\n",
       "  'has(high)': 0,\n",
       "  'has(ive ever been)': 1,\n",
       "  'has(a couple of)': 0,\n",
       "  'has(asian)': 0,\n",
       "  'has(thru)': 0,\n",
       "  'has(quick)': 0,\n",
       "  'has(time)': 1,\n",
       "  'has(emphasize)': 0,\n",
       "  'has(buy)': 0,\n",
       "  'has(fast food)': 0,\n",
       "  'has(wait)': 0,\n",
       "  'has(just)': 0,\n",
       "  'has(anywhere)': 0,\n",
       "  'has(at this mcdonalds)': 0,\n",
       "  'has(of the)': 0,\n",
       "  'has(do not)': 0,\n",
       "  'has(forever)': 0,\n",
       "  'has(been to this)': 0,\n",
       "  'has(own)': 0,\n",
       "  'has(kids)': 0,\n",
       "  'has(area)': 0,\n",
       "  'has(mcdonalds in the)': 0,\n",
       "  'has(angry)': 0,\n",
       "  'has(consistently)': 0,\n",
       "  'has(a lot of)': 0,\n",
       "  'has(got my order)': 0,\n",
       "  'has(once)': 0,\n",
       "  'has(slow)': 0,\n",
       "  'has(old)': 0,\n",
       "  'has(difficult)': 0,\n",
       "  'has(personal)': 0,\n",
       "  'has(went through the)': 0,\n",
       "  'has(unfortunately)': 0,\n",
       "  'has(the order)': 0,\n",
       "  'has(many)': 0,\n",
       "  'has(ready)': 0,\n",
       "  'has(white)': 0,\n",
       "  'has(american)': 0,\n",
       "  'has(dining)': 0,\n",
       "  'has(enough)': 0,\n",
       "  'has(the first time)': 0,\n",
       "  'has(i got to)': 0,\n",
       "  'has(horrible)': 0,\n",
       "  'has(first)': 0,\n",
       "  'has(special)': 0,\n",
       "  'has(homeless)': 0,\n",
       "  'has(up my order)': 0,\n",
       "  'has(i have never)': 0,\n",
       "  'has(poorly)': 0,\n",
       "  'has(i have)': 0,\n",
       "  'has(mcds)': 1,\n",
       "  'has(go to the)': 0,\n",
       "  'has(my order i)': 0,\n",
       "  'has(let)': 1,\n",
       "  'has(the first)': 0,\n",
       "  'has(they are)': 0,\n",
       "  'has(soon)': 0,\n",
       "  'has(mcdonalds i have)': 0,\n",
       "  'has(nuggets)': 0,\n",
       "  'has(cheese)': 0,\n",
       "  'has(french)': 0,\n",
       "  'has(and they)': 0,\n",
       "  'has(breakfast)': 0,\n",
       "  'has(place is)': 0,\n",
       "  'has(this location is)': 0,\n",
       "  'has(back to the)': 0,\n",
       "  'has(do)': 0,\n",
       "  'has(the rest of)': 0,\n",
       "  'has(customers)': 0,\n",
       "  'has(i dont)': 0,\n",
       "  'has(lady)': 0,\n",
       "  'has(in the area)': 0,\n",
       "  'has(additional)': 0,\n",
       "  'has(order)': 1,\n",
       "  'has(guy)': 0,\n",
       "  'has(when i asked)': 0,\n",
       "  'has(in front of)': 0,\n",
       "  'has(english)': 0,\n",
       "  'has(in the drivethru)': 0,\n",
       "  'has(closed)': 0,\n",
       "  'has(few)': 0,\n",
       "  'has(previous)': 0,\n",
       "  'has(same)': 0,\n",
       "  'has(often)': 0,\n",
       "  'has(it was a)': 0,\n",
       "  'has(warning)': 0,\n",
       "  'has(somewhere)': 0,\n",
       "  'has(interested)': 0,\n",
       "  'has(impressed)': 0,\n",
       "  'has(that i)': 0,\n",
       "  'has(average)': 0,\n",
       "  'has(guess)': 0,\n",
       "  'has(my food and)': 0,\n",
       "  'has(go to this)': 0,\n",
       "  'has(due)': 0,\n",
       "  'has(in the bag)': 0,\n",
       "  'has(lacking)': 0,\n",
       "  'has(easy)': 0,\n",
       "  'has(get my order)': 0,\n",
       "  'has(sadly)': 0,\n",
       "  'has(only)': 0,\n",
       "  'has(front of)': 0,\n",
       "  'has(fucking)': 0,\n",
       "  'has(the drive through)': 0,\n",
       "  'has(eaten)': 0,\n",
       "  'has(i will never)': 0,\n",
       "  'has(consider)': 0,\n",
       "  'has(overall)': 0,\n",
       "  'has(again)': 0,\n",
       "  'has(close)': 0,\n",
       "  'has(i have been)': 0,\n",
       "  'has(happen)': 0,\n",
       "  'has(generally)': 0,\n",
       "  'has(the drive thru)': 0,\n",
       "  'has(i have a)': 0,\n",
       "  'has(there is no)': 0,\n",
       "  'has(by the)': 0,\n",
       "  'has(right)': 0,\n",
       "  'has(ahead)': 0,\n",
       "  'has(get)': 1,\n",
       "  'has(interesting)': 0,\n",
       "  'has(for my)': 0,\n",
       "  'has(by the time)': 0,\n",
       "  'has(and it was)': 0,\n",
       "  'has(time i)': 0,\n",
       "  'has(every time i)': 0,\n",
       "  'has(i am)': 0,\n",
       "  'has(in line)': 0,\n",
       "  'has(because they are)': 0,\n",
       "  'has(aware)': 0,\n",
       "  'has(leave)': 0,\n",
       "  'has(however)': 0,\n",
       "  'has(gross)': 0,\n",
       "  'has(sweet)': 0,\n",
       "  'has(particularly)': 0,\n",
       "  'has(when i got)': 0,\n",
       "  'has(major)': 0,\n",
       "  'has(texting)': 0,\n",
       "  'has(fast)': 0,\n",
       "  'has(later)': 0,\n",
       "  'has(to be)': 1,\n",
       "  'has(i ordered)': 0,\n",
       "  'has(the fries were)': 0,\n",
       "  'has(pretty)': 0,\n",
       "  'has(too)': 1,\n",
       "  'has(know)': 0,\n",
       "  'has(yelling)': 0,\n",
       "  'has(several)': 0,\n",
       "  'has(this is the)': 0,\n",
       "  'has(numerous)': 0,\n",
       "  'has(get my food)': 0,\n",
       "  'has(large)': 0,\n",
       "  'has(constant)': 0,\n",
       "  'has(the window and)': 0,\n",
       "  'has(remove)': 0,\n",
       "  'has(hard)': 0,\n",
       "  'has(and the)': 0,\n",
       "  'has(twice)': 0,\n",
       "  'has(at the)': 0,\n",
       "  'has(unhappy)': 0,\n",
       "  'has(and then)': 0,\n",
       "  'has(lunch)': 0,\n",
       "  'has(whole)': 0,\n",
       "  'has(drive through)': 1,\n",
       "  'has(perhaps)': 0,\n",
       "  'has(find)': 0,\n",
       "  'has(worst)': 1,\n",
       "  'has(was the)': 0,\n",
       "  'has(stupid)': 0,\n",
       "  'has(is the)': 0,\n",
       "  'has(disappointed)': 0,\n",
       "  'has(rectify)': 0,\n",
       "  'has(speaking)': 0,\n",
       "  'has(horrendous)': 0,\n",
       "  'has(elsewhere)': 0,\n",
       "  'has(in a)': 0,\n",
       "  'has(hed)': 0,\n",
       "  'has(such)': 0,\n",
       "  'has(black)': 0,\n",
       "  'has(had to ask)': 0,\n",
       "  'has(of the time)': 0,\n",
       "  'has(rarely)': 0,\n",
       "  'has(pathetic)': 0,\n",
       "  'has(certain)': 0,\n",
       "  'has(foreign)': 0,\n",
       "  'has(thats)': 0,\n",
       "  'has(apparently)': 0,\n",
       "  'has(drivethru)': 0,\n",
       "  'has(qualify)': 0,\n",
       "  'has(watered)': 0,\n",
       "  'has(get to the)': 0,\n",
       "  'has(fries)': 0,\n",
       "  'has(lot)': 0,\n",
       "  'has(one of the)': 0,\n",
       "  'has(down)': 0,\n",
       "  'has(local)': 0,\n",
       "  'has(through the drivethru)': 0,\n",
       "  'has(of the worst)': 0,\n",
       "  'has(assume)': 0,\n",
       "  'has(higher)': 0,\n",
       "  'has(golden)': 0,\n",
       "  'has(long)': 0,\n",
       "  'has(food is)': 0,\n",
       "  'has(and the food)': 0,\n",
       "  'has(seating)': 0,\n",
       "  'has(short)': 0,\n",
       "  'has(to the next)': 0,\n",
       "  'has(sure)': 0,\n",
       "  'has(the food)': 0,\n",
       "  'has(here)': 0,\n",
       "  'has(first time i)': 0,\n",
       "  'has(store)': 0,\n",
       "  'has(receipt)': 0,\n",
       "  'has(to go to)': 0,\n",
       "  'has(back to this)': 0,\n",
       "  'has(dirty)': 0,\n",
       "  'has(they were)': 0,\n",
       "  'has(down the street)': 0,\n",
       "  'has(spanish)': 0,\n",
       "  'has(much)': 0,\n",
       "  'has(for the)': 0,\n",
       "  'has(egg)': 0,\n",
       "  'has(swing)': 0,\n",
       "  'has(the food is)': 0,\n",
       "  'has(it was)': 0,\n",
       "  'has(run)': 0,\n",
       "  'has(remember)': 0,\n",
       "  'has(doesnt)': 0,\n",
       "  'has(relatively)': 0,\n",
       "  'has(when i get)': 0,\n",
       "  'has(sometimes)': 0,\n",
       "  'has(i went to)': 0,\n",
       "  'has(negative)': 0,\n",
       "  'has(excited)': 0,\n",
       "  'has(slightly)': 0,\n",
       "  'has(and i)': 1,\n",
       "  'has(there)': 0,\n",
       "  'has(amazing)': 0,\n",
       "  'has(driving)': 0,\n",
       "  'has(the drive)': 0,\n",
       "  'has(but i)': 1,\n",
       "  'has(disappointing)': 0,\n",
       "  'has(to the window)': 0,\n",
       "  'has(nearby)': 0,\n",
       "  'has(always)': 0,\n",
       "  'has(dinning)': 0,\n",
       "  'has(totally)': 0,\n",
       "  'has(lose)': 0,\n",
       "  'has(specifically)': 0,\n",
       "  'has(second)': 0,\n",
       "  'has(mcdonalds is)': 0,\n",
       "  'has(dont)': 0,\n",
       "  'has(mcdouble)': 0,\n",
       "  'has(young)': 0,\n",
       "  'has(employees)': 0,\n",
       "  'has(there is a)': 0,\n",
       "  'has(sing)': 0,\n",
       "  'has(wrong)': 0,\n",
       "  'has(save)': 0,\n",
       "  'has(minutes)': 0,\n",
       "  'has(my food)': 0,\n",
       "  'has(craving)': 0,\n",
       "  'has(anymore)': 0,\n",
       "  'has(didnt)': 0,\n",
       "  'has(clearly)': 0,\n",
       "  'has(frustrated)': 0,\n",
       "  'has(new)': 0,\n",
       "  'has(drink)': 0,\n",
       "  'has(but the)': 0,\n",
       "  'has(walking)': 0,\n",
       "  'has(clear)': 0,\n",
       "  'has(your order)': 1,\n",
       "  'has(together)': 0,\n",
       "  'has(had to)': 0,\n",
       "  'has(also)': 0,\n",
       "  'has(i go to)': 0,\n",
       "  'has(counter)': 0,\n",
       "  'has(left)': 0,\n",
       "  'has(dressing)': 0,\n",
       "  'has(aggravating)': 0,\n",
       "  'has(entire)': 0,\n",
       "  'has(have ever been)': 0,\n",
       "  'has(the worst mcdonalds)': 0,\n",
       "  'has(unprofessional)': 0,\n",
       "  'has(absolutely)': 0,\n",
       "  'has(the only)': 0,\n",
       "  'has(chicken)': 0,\n",
       "  'has(usually)': 0,\n",
       "  'has(in a hurry)': 0,\n",
       "  'has(particular)': 0,\n",
       "  'has(socialize)': 0,\n",
       "  'has(basically)': 0,\n",
       "  'has(grilled)': 0,\n",
       "  'has(to be the)': 0,\n",
       "  'has(so i)': 0,\n",
       "  'has(to get my)': 0,\n",
       "  'has(so)': 0,\n",
       "  'has(ever been to)': 1,\n",
       "  'has(apply)': 0,\n",
       "  'has(sandwich)': 0,\n",
       "  'has(to go)': 0,\n",
       "  'has(not)': 1,\n",
       "  'has(way)': 0,\n",
       "  'has(total)': 0,\n",
       "  'has(with the)': 0,\n",
       "  'has(to grab a)': 0,\n",
       "  'has(i dont know)': 0,\n",
       "  'has(immediately)': 0,\n",
       "  'has(out of the)': 0,\n",
       "  'has(at the window)': 0,\n",
       "  'has(disgusting)': 0,\n",
       "  'has(to me and)': 0,\n",
       "  'has(on the)': 0,\n",
       "  'has(early)': 0,\n",
       "  'has(shed)': 0,\n",
       "  'has(almost)': 0,\n",
       "  'has(ice)': 0,\n",
       "  'has(this mcdonalds is)': 0,\n",
       "  'has(the manager)': 0,\n",
       "  'has(if you are)': 0,\n",
       "  'has(through the)': 1,\n",
       "  'has(good)': 0,\n",
       "  'has(meal)': 0,\n",
       "  'has(front of me)': 0,\n",
       "  'has(possible)': 0,\n",
       "  'has(regular)': 0,\n",
       "  'has(the 2nd window)': 0,\n",
       "  'has(to this)': 0,\n",
       "  'has(the people who)': 0,\n",
       "  'has(experience)': 0,\n",
       "  'has(think)': 0,\n",
       "  'has(quickly)': 0,\n",
       "  'has(to get a)': 0,\n",
       "  'has(earlier)': 0,\n",
       "  'has(have)': 0,\n",
       "  'has(correctly)': 0,\n",
       "  'has(people)': 0,\n",
       "  'has(general)': 0,\n",
       "  'has(go to)': 0,\n",
       "  'has(is the worst)': 0,\n",
       "  'has(then)': 0,\n",
       "  'has(times)': 0,\n",
       "  'has(actually)': 0,\n",
       "  'has(say)': 0,\n",
       "  'has(a few)': 0,\n",
       "  'has(eat)': 0,\n",
       "  'has(have a)': 0,\n",
       "  'has(busy)': 0,\n",
       "  'has(i was in)': 0,\n",
       "  'has(slower)': 0,\n",
       "  'has(person)': 0,\n",
       "  'has(alone)': 0,\n",
       "  'has(tasting)': 0,\n",
       "  'has(check)': 0,\n",
       "  'has(certainly)': 0,\n",
       "  'has(my way to)': 0,\n",
       "  'has(in the drive)': 0,\n",
       "  'has(and i have)': 0,\n",
       "  'has(tired)': 0,\n",
       "  'has(else)': 0,\n",
       "  'has(far the worst)': 1,\n",
       "  'has(add)': 0,\n",
       "  'has(dipping)': 0,\n",
       "  'has(money)': 0,\n",
       "  'has(hot)': 0,\n",
       "  'has(a fast food)': 0,\n",
       "  'has(seems to be)': 0,\n",
       "  'has(give)': 0,\n",
       "  'has(mcdonalds)': 0,\n",
       "  'has(this is)': 1,\n",
       "  'has(ashamed)': 0,\n",
       "  'has(thing)': 0,\n",
       "  'has(my order)': 0,\n",
       "  'has(forward)': 0,\n",
       "  'has(usual)': 0,\n",
       "  'has(last)': 0,\n",
       "  'has(third)': 0,\n",
       "  'has(when i was)': 0,\n",
       "  'has(impossible)': 0,\n",
       "  'has(fairly)': 0,\n",
       "  'has(empty)': 0,\n",
       "  'has(food)': 0,\n",
       "  'has(specific)': 0,\n",
       "  'has(maybe)': 0,\n",
       "  'has(up to)': 0,\n",
       "  'has(evening)': 0,\n",
       "  'has(available)': 0,\n",
       "  'has(the same)': 0,\n",
       "  'has(still)': 0,\n",
       "  'has(cold)': 0,\n",
       "  'has(orders)': 0,\n",
       "  'has(to the mcdonalds)': 0,\n",
       "  'has(you want to)': 0,\n",
       "  'has(complicated)': 0,\n",
       "  'has(to get)': 0,\n",
       "  'has(service)': 0,\n",
       "  'has(frustrating)': 0,\n",
       "  'has(open)': 0,\n",
       "  'has(manager)': 0,\n",
       "  'has(probably)': 0,\n",
       "  'has(and when i)': 0,\n",
       "  'has(go)': 0,\n",
       "  'has(i get to)': 0,\n",
       "  'has(i went through)': 0,\n",
       "  'has(greeting)': 0,\n",
       "  'has(it is)': 0,\n",
       "  'has(work)': 0,\n",
       "  'has(best)': 0,\n",
       "  'has(one of)': 0,\n",
       "  'has(got to the)': 0,\n",
       "  'has(obvious)': 0,\n",
       "  'has(drive thru)': 0,\n",
       "  'has(they have)': 0,\n",
       "  'has(line)': 0,\n",
       "  'has(nice)': 0,\n",
       "  'has(my order wrong)': 0,\n",
       "  'has(older)': 0,\n",
       "  'has(the service is)': 0,\n",
       "  'has(drive)': 1,\n",
       "  'has(typical)': 0,\n",
       "  'has(contacted)': 0,\n",
       "  'has(unhealthy)': 0,\n",
       "  'has(someone)': 0,\n",
       "  'has(appear)': 0,\n",
       "  'has(better)': 1,\n",
       "  'has(cars)': 0,\n",
       "  'has(sweltering)': 0,\n",
       "  'has(small)': 0,\n",
       "  'has(least)': 0,\n",
       "  'has(out of)': 0,\n",
       "  'has(in my)': 0,\n",
       "  'has(minutes to get)': 0,\n",
       "  'has(it would be)': 0,\n",
       "  'has(panhandling)': 0,\n",
       "  'has(recently)': 0,\n",
       "  'has(biggest)': 0,\n",
       "  'has(complaining)': 0,\n",
       "  'has(soft)': 0,\n",
       "  'has(in the)': 0,\n",
       "  'has(if you want)': 0,\n",
       "  'has(confusing)': 0,\n",
       "  'has(hispanic)': 0,\n",
       "  'has(i asked for)': 0,\n",
       "  'has(identify)': 0,\n",
       "  'has(fried)': 0,\n",
       "  'has(individual)': 0,\n",
       "  'has(instead)': 0,\n",
       "  'has(rather)': 0,\n",
       "  'has(bad)': 0,\n",
       "  'has(on my way)': 0,\n",
       "  'has(friendly)': 1,\n",
       "  'has(full)': 0,\n",
       "  'has(20 minutes to)': 0,\n",
       "  'has(bag)': 0,\n",
       "  'has(location)': 0,\n",
       "  'has(really)': 0,\n",
       "  'has(smaller)': 0,\n",
       "  'has(this location)': 0,\n",
       "  'has(stars)': 0,\n",
       "  'has(now)': 0,\n",
       "  'has(take)': 0,\n",
       "  'has(there was no)': 0,\n",
       "  'has(this place)': 0,\n",
       "  'has(was a)': 0,\n",
       "  'has(place)': 0,\n",
       "  'has(basic)': 0,\n",
       "  'has(already)': 0,\n",
       "  'has(in the morning)': 0,\n",
       "  'has(cashier)': 0,\n",
       "  'has(freaking)': 0,\n",
       "  'has(less)': 0,\n",
       "  'has(different)': 0,\n",
       "  'has(completely)': 1,\n",
       "  'has(for a)': 0,\n",
       "  'has(the counter)': 0,\n",
       "  'has(separate)': 0,\n",
       "  'has(ive)': 1,\n",
       "  'has(double)': 0,\n",
       "  'has(this place is)': 0,\n",
       "  'has(exactly)': 0,\n",
       "  'has(prepared)': 0,\n",
       "  'has(disinterested)': 0,\n",
       "  'has(have been)': 0,\n",
       "  'has(ridiculous)': 0,\n",
       "  'has(if you)': 1,\n",
       "  'has(back)': 0,\n",
       "  'has(recognize)': 0,\n",
       "  'has(staff)': 1,\n",
       "  'has(pay)': 0,\n",
       "  'has(ago)': 0,\n",
       "  'has(time i go)': 0,\n",
       "  'has(poor)': 0,\n",
       "  'has(im)': 1,\n",
       "  'has(when i)': 0,\n",
       "  'has(low)': 0,\n",
       "  'has(never)': 0,\n",
       "  'has(if i)': 0,\n",
       "  'has(waiting for my)': 0,\n",
       "  'has(tell)': 0,\n",
       "  'has(i was)': 0,\n",
       "  'has(crappy)': 0,\n",
       "  'has(mcdonalds ive ever)': 0,\n",
       "  'has(this mcdonalds)': 0,\n",
       "  'has(be)': 1,\n",
       "  'has(selling)': 0,\n",
       "  'has(extremely)': 0,\n",
       "  'has(they dont have)': 0,\n",
       "  'has(ordered)': 0,\n",
       "  'has(to this mcdonalds)': 0,\n",
       "  'has(serious)': 0,\n",
       "  'has(customer service and)': 0,\n",
       "  'has(i have to)': 0,\n",
       "  'has(from the)': 0,\n",
       "  'has(realize)': 0,\n",
       "  'has(healthy)': 0,\n",
       "  'has(this is a)': 0,\n",
       "  'has(even)': 0,\n",
       "  'has(ordering)': 0,\n",
       "  'has(make)': 0,\n",
       "  'has(see)': 1,\n",
       "  'has(have to)': 0,\n",
       "  'has(i had to)': 0,\n",
       "  'has(eating)': 0,\n",
       "  'has(put)': 0,\n",
       "  'has(there are)': 0,\n",
       "  'has(most)': 0,\n",
       "  'has(lowest)': 0,\n",
       "  'has(very)': 1,\n",
       "  'has(behind the counter)': 0,\n",
       "  'has(next)': 0,\n",
       "  'has(organize)': 0,\n",
       "  'has(free)': 0,\n",
       "  'has(fresh)': 0,\n",
       "  'has(disorganized)': 0,\n",
       "  'has(truly)': 0,\n",
       "  'has(across the street)': 0,\n",
       "  'has(want)': 0,\n",
       "  'has(actual)': 0,\n",
       "  'has(restaurant)': 0,\n",
       "  'has(the cashier)': 0,\n",
       "  'has(anyway)': 0,\n",
       "  'has(easily)': 0,\n",
       "  'has(there is)': 0,\n",
       "  'has(fking)': 0,\n",
       "  'has(is a)': 0,\n",
       "  'has(glowing)': 0,\n",
       "  'has(barely)': 0,\n",
       "  'has(honestly)': 0,\n",
       "  'has(me when i)': 0,\n",
       "  'has(away)': 0,\n",
       "  'has(youre)': 0,\n",
       "  'has(return to this)': 0,\n",
       "  'has(well)': 0,\n",
       "  'has(the parking lot)': 0,\n",
       "  'has(simply)': 0,\n",
       "  'has(come)': 0,\n",
       "  'has(keep)': 0,\n",
       "  'has(and a)': 0,\n",
       "  'has(ketchup)': 0,\n",
       "  'has(star)': 0,\n",
       "  'has(safe)': 0,\n",
       "  'has(worse)': 0,\n",
       "  'has(in and out)': 0,\n",
       "  'has(at this location)': 0,\n",
       "  'has(expensive)': 0,\n",
       "  'has(extra)': 0,\n",
       "  'has(up to the)': 0,\n",
       "  'has(nasty)': 0,\n",
       "  'has(far)': 1,\n",
       "  'has(ive been to)': 1,\n",
       "  'has(real)': 0,\n",
       "  'has(late)': 0,\n",
       "  'has(front)': 0,\n",
       "  'has(normal)': 0,\n",
       "  'has(i will)': 0,\n",
       "  'has(apologize)': 0,\n",
       "  'has(the drivethru)': 0,\n",
       "  'has(to ask for)': 0,\n",
       "  'has(finally)': 0,\n",
       "  'has(sauce)': 0,\n",
       "  'has(hardly)': 0,\n",
       "  'has(window)': 0,\n",
       "  'has(huge)': 1,\n",
       "  'has(everywhere)': 0,\n",
       "  'has(up)': 1,\n",
       "  'has(seriously)': 0,\n",
       "  'has(rude)': 0,\n",
       "  'has(need)': 0,\n",
       "  'has(follow)': 0,\n",
       "  'has(otherwise)': 0,\n",
       "  'has(the food was)': 0,\n",
       "  'has(some of the)': 0,\n",
       "  'has(i had)': 0,\n",
       "  'has(time i went)': 0,\n",
       "  'has(little)': 0,\n",
       "  'has(other)': 0,\n",
       "  'has(to be a)': 0,\n",
       "  'has(told)': 0,\n",
       "  'has(scamming)': 0,\n",
       "  'has(get your order)': 0,\n",
       "  'has(terrible)': 0,\n",
       "  'has(a long time)': 0,\n",
       "  'has(i decided to)': 0,\n",
       "  'has(complete)': 1,\n",
       "  'has(the time i)': 0,\n",
       "  'has(i could give)': 0,\n",
       "  'has(my order and)': 0,\n",
       "  'has(with a)': 0,\n",
       "  'has(burger)': 0,\n",
       "  'has(to the)': 0,\n",
       "  'has(something)': 0,\n",
       "  'has(expect)': 0,\n",
       "  'has(the worst)': 1,\n",
       "  'has(allow)': 0,\n",
       "  'has(main)': 0,\n",
       "  'has(customer service)': 0,\n",
       "  'has(car)': 1,\n",
       "  'has(replace)': 0,\n",
       "  'has(morning)': 0,\n",
       "  'has(went to the)': 0,\n",
       "  'has(coffee)': 0,\n",
       "  'has(review)': 0,\n",
       "  'has(obviously)': 0,\n",
       "  'has(through the drive)': 0,\n",
       "  'has(cream)': 0,\n",
       "  'has(at this)': 0,\n",
       "  'has(laughing)': 0,\n",
       "  'has(constantly)': 0,\n",
       "  'has(there was)': 0,\n",
       "  'has(yet)': 0,\n",
       "  'has(been to)': 1,\n",
       "  'has(ever)': 1,\n",
       "  'has(normally)': 0,\n",
       "  'has(day)': 0,\n",
       "  'has(a mcdonalds)': 0,\n",
       "  'has(single)': 0,\n",
       "  'has(definitely)': 0,\n",
       "  'has(you have to)': 0,\n",
       "  'has(able)': 0,\n",
       "  'has(pulled up to)': 0,\n",
       "  'has(the window)': 0,\n",
       "  'has(i got)': 0,\n",
       "  'has(live)': 0,\n",
       "  'has(customer)': 0,\n",
       "  'has(at the drive)': 0,\n",
       "  'has(worst mcdonalds i)': 0,\n",
       "  'has(i could)': 0,\n",
       "  'has(more)': 0,\n",
       "  'has(nothing)': 0,\n",
       "  'has(i ordered a)': 0,\n",
       "  'has(unfriendly)': 1},\n",
       " 'Filthy')"
      ]
     },
     "execution_count": 97,
     "metadata": {},
     "output_type": "execute_result"
    }
   ],
   "source": [
    "def feature_extractor(review):\n",
    "    features = {}\n",
    "    for item in import_words:\n",
    "        item = vec_to_str(item)\n",
    "        features[\"has(%s)\" % item] = int(item in review)\n",
    "    return features\n",
    "\n",
    "data = [] # the binary data and the label for each review\n",
    "for review in paired:\n",
    "    data = data + [(feature_extractor(review[0]), review[1])]\n",
    "data[0]"
   ]
  },
  {
   "cell_type": "markdown",
   "metadata": {},
   "source": [
    "## Writing the data into a csv file"
   ]
  },
  {
   "cell_type": "code",
   "execution_count": 91,
   "metadata": {},
   "outputs": [],
   "source": [
    "binary_data = [list(item[0].values()) for item in data]\n",
    "\n",
    "def one_hot(string, labels): ## converting each labels to a 0-1 vector for later Deep Learning Classification\n",
    "    n = len(labels)\n",
    "    vec = [0 for i in range(n)]\n",
    "    for i in range(n):\n",
    "        if labels[i] == string:\n",
    "            vec[i] = 1\n",
    "    return vec\n",
    "labels = list(set([item[1] for item in data]) )"
   ]
  },
  {
   "cell_type": "markdown",
   "metadata": {},
   "source": [
    "### Labels for the reviews"
   ]
  },
  {
   "cell_type": "code",
   "execution_count": 98,
   "metadata": {},
   "outputs": [
    {
     "data": {
      "text/plain": [
       "['Filthy', 'RudeService', 'BadFood', 'SlowService', 'OrderProblem']"
      ]
     },
     "execution_count": 98,
     "metadata": {},
     "output_type": "execute_result"
    }
   ],
   "source": [
    "labels"
   ]
  },
  {
   "cell_type": "code",
   "execution_count": 99,
   "metadata": {},
   "outputs": [
    {
     "data": {
      "text/plain": [
       "'target_data = [one_hot(item[1], labels) for item in data] ## Data for Deep learning\\n\\nnp.savetxt(\"csv_data.csv\", binary_data, delimiter = \",\")\\nnp.savetxt(\"target_data.csv\", target_data, delimiter = \",\")'"
      ]
     },
     "execution_count": 99,
     "metadata": {},
     "output_type": "execute_result"
    }
   ],
   "source": [
    "\"\"\"target_data = [one_hot(item[1], labels) for item in data] ## Data for Deep learning\n",
    "\n",
    "np.savetxt(\"csv_data.csv\", binary_data, delimiter = \",\")\n",
    "np.savetxt(\"target_data.csv\", target_data, delimiter = \",\")\"\"\""
   ]
  },
  {
   "cell_type": "markdown",
   "metadata": {},
   "source": [
    "## Splitting data"
   ]
  },
  {
   "cell_type": "code",
   "execution_count": 100,
   "metadata": {},
   "outputs": [],
   "source": [
    "random.shuffle(data)\n",
    "\n",
    "n_manual = len(data)\n",
    "train_manual_data = data[:int(round(.8*n_manual))]\n",
    "test_manual_data = data[int(round(.8*n_manual)):]"
   ]
  },
  {
   "cell_type": "code",
   "execution_count": 101,
   "metadata": {},
   "outputs": [
    {
     "name": "stdout",
     "output_type": "stream",
     "text": [
      "0.42127659574468085\n"
     ]
    }
   ],
   "source": [
    "naive_bayes_cl = nltk.NaiveBayesClassifier.train(train_manual_data)\n",
    "print(nltk.classify.accuracy(naive_bayes_cl, test_manual_data))"
   ]
  },
  {
   "cell_type": "code",
   "execution_count": 102,
   "metadata": {},
   "outputs": [],
   "source": [
    "#tree_cl = nltk.DecisionTreeClassifier.train(train_manual_data)\n",
    "#print(nltk.classify.accuracy(tree_cl, test_manual_data))"
   ]
  },
  {
   "cell_type": "code",
   "execution_count": 103,
   "metadata": {},
   "outputs": [],
   "source": [
    "from sklearn.svm import NuSVC #SVC #LinearSVC\n",
    "from nltk.classify.scikitlearn import SklearnClassifier\n",
    "classif = SklearnClassifier(NuSVC())#LinearSVC"
   ]
  },
  {
   "cell_type": "code",
   "execution_count": 104,
   "metadata": {},
   "outputs": [
    {
     "name": "stdout",
     "output_type": "stream",
     "text": [
      "0.5191489361702127\n"
     ]
    }
   ],
   "source": [
    "svm_cl = classif.train(train_manual_data)\n",
    "print(nltk.classify.accuracy(svm_cl, test_manual_data))"
   ]
  },
  {
   "cell_type": "markdown",
   "metadata": {},
   "source": [
    "## Plotting Confusion matrix"
   ]
  },
  {
   "cell_type": "code",
   "execution_count": 105,
   "metadata": {},
   "outputs": [],
   "source": [
    "import seaborn as sn\n",
    "import pandas as pd\n",
    "import matplotlib.pyplot as plt\n",
    "\n",
    "from sklearn.metrics import confusion_matrix"
   ]
  },
  {
   "cell_type": "code",
   "execution_count": 106,
   "metadata": {},
   "outputs": [
    {
     "data": {
      "text/plain": [
       "array([[13,  4,  5,  2,  1],\n",
       "       [ 9, 19,  4,  4,  4],\n",
       "       [16,  2, 19,  7,  5],\n",
       "       [21,  9,  8, 23,  6],\n",
       "       [ 7,  5,  6, 11, 25]], dtype=int64)"
      ]
     },
     "execution_count": 106,
     "metadata": {},
     "output_type": "execute_result"
    }
   ],
   "source": [
    "\n",
    "y_true = [item[1] for item in test_manual_data]\n",
    "y_pred = [naive_bayes_cl.classify(pair[0]) for pair in test_manual_data]\n",
    "cm = confusion_matrix(y_true, y_pred)\n",
    "cm"
   ]
  },
  {
   "cell_type": "code",
   "execution_count": 107,
   "metadata": {},
   "outputs": [
    {
     "data": {
      "image/png": "[encoded data removed]",
      "text/plain": [
       "<Figure size 720x504 with 2 Axes>"
      ]
     },
     "metadata": {
      "needs_background": "light"
     },
     "output_type": "display_data"
    }
   ],
   "source": [
    "\n",
    "array = cm\n",
    "\n",
    "final_labels = ['BadFood', 'Filthy', 'OrderProblem', 'RudeService', 'SlowService']\n",
    "df_cm = pd.DataFrame(array, index = [i for i in final_labels],\n",
    "                  columns = [i for i in final_labels])\n",
    "plt.figure(figsize = (10,7))\n",
    "sn.heatmap(df_cm, annot=True)\n",
    "plt.xlabel(\"Predicted\", fontsize = 20)\n",
    "plt.ylabel(\"Actual\", fontsize = 20)\n",
    "plt.title(\"Confusion Matrix for the SVM Classifier 54% Accurate\", fontsize = 20)\n",
    "plt.show()\n",
    "plt.close()"
   ]
  },
  {
   "cell_type": "markdown",
   "metadata": {
    "collapsed": true
   },
   "source": [
    "## 10-fold cross validation: \n",
    "We do not use it as it gives the average of accuracies but we instead use the mod of accuracies"
   ]
  },
  {
   "cell_type": "code",
   "execution_count": 108,
   "metadata": {},
   "outputs": [],
   "source": [
    "n_manual = len(data)\n",
    "\n",
    "def list_model_accur(epoch, model):\n",
    "    if model == \"naive\":\n",
    "        classifier = nltk.NaiveBayesClassifier\n",
    "    if model == \"svm\":\n",
    "        classifier = SklearnClassifier(NuSVC())#LinearSVC\n",
    "    ls = []\n",
    "    for i in range(epoch):\n",
    "        random.shuffle(data)\n",
    "        train_manual_data = data[:int(round(.8*n_manual))]\n",
    "        test_manual_data = data[int(round(.8*n_manual)):]\n",
    "        our_model = classifier.train(train_manual_data)\n",
    "        ls.append( nltk.classify.accuracy(our_model, test_manual_data) )\n",
    "    return ls\n"
   ]
  },
  {
   "cell_type": "code",
   "execution_count": 109,
   "metadata": {},
   "outputs": [],
   "source": [
    "niave_bayes_acc = list_model_accur(10, \"naive\")"
   ]
  },
  {
   "cell_type": "code",
   "execution_count": 110,
   "metadata": {},
   "outputs": [
    {
     "name": "stdout",
     "output_type": "stream",
     "text": [
      "The Naive Bayes gives these accuracies: \n",
      " [0.49361702127659574, 0.43829787234042555, 0.4851063829787234, 0.4723404255319149, 0.425531914893617, 0.4425531914893617, 0.4553191489361702, 0.48936170212765956, 0.5234042553191489, 0.5361702127659574]\n"
     ]
    }
   ],
   "source": [
    "print(\"The Naive Bayes gives these accuracies: \\n\", niave_bayes_acc)"
   ]
  },
  {
   "cell_type": "code",
   "execution_count": 111,
   "metadata": {},
   "outputs": [
    {
     "data": {
      "text/plain": [
       "0.4787234042553191"
      ]
     },
     "execution_count": 111,
     "metadata": {},
     "output_type": "execute_result"
    }
   ],
   "source": [
    "np.median(niave_bayes_acc)"
   ]
  },
  {
   "cell_type": "code",
   "execution_count": 112,
   "metadata": {},
   "outputs": [
    {
     "name": "stdout",
     "output_type": "stream",
     "text": [
      "The SVM gives these accuracies: \n",
      " [0.4978723404255319, 0.5574468085106383, 0.5148936170212766, 0.5063829787234042, 0.5106382978723404, 0.5191489361702127, 0.5063829787234042, 0.5106382978723404, 0.5276595744680851, 0.5191489361702127]\n"
     ]
    }
   ],
   "source": [
    "svm_acc = list_model_accur(10, \"svm\")\n",
    "print(\"The SVM gives these accuracies: \\n\", svm_acc)"
   ]
  },
  {
   "cell_type": "code",
   "execution_count": 115,
   "metadata": {
    "scrolled": true
   },
   "outputs": [
    {
     "data": {
      "text/plain": [
       "0.5127659574468084"
      ]
     },
     "execution_count": 115,
     "metadata": {},
     "output_type": "execute_result"
    }
   ],
   "source": [
    "np.median(svm_acc)"
   ]
  },
  {
   "cell_type": "markdown",
   "metadata": {},
   "source": [
    "## How Does TextBlob NaiveBayes Classifier Perform?"
   ]
  },
  {
   "cell_type": "code",
   "execution_count": 116,
   "metadata": {},
   "outputs": [],
   "source": [
    "n = len(paired)\n",
    "train = paired[:int(round(.8*n))]\n",
    "test = paired[int(round(.8*n)):]"
   ]
  },
  {
   "cell_type": "code",
   "execution_count": 117,
   "metadata": {},
   "outputs": [],
   "source": [
    "from textblob.classifiers import NaiveBayesClassifier\n",
    "cl = NaiveBayesClassifier(train)"
   ]
  },
  {
   "cell_type": "markdown",
   "metadata": {},
   "source": [
    "## Accuracy of TextBlob Classifier (For Baseline Purposes)"
   ]
  },
  {
   "cell_type": "code",
   "execution_count": 118,
   "metadata": {},
   "outputs": [
    {
     "data": {
      "text/plain": [
       "0.35319148936170214"
      ]
     },
     "execution_count": 118,
     "metadata": {},
     "output_type": "execute_result"
    }
   ],
   "source": [
    "cl.accuracy(test)"
   ]
  },
  {
   "cell_type": "code",
   "execution_count": null,
   "metadata": {
    "collapsed": true
   },
   "outputs": [],
   "source": []
  }
 ],
 "metadata": {
  "anaconda-cloud": {},
  "kernelspec": {
   "display_name": "Python 3 (ipykernel)",
   "language": "python",
   "name": "python3"
  },
  "language_info": {
   "codemirror_mode": {
    "name": "ipython",
    "version": 3
   },
   "file_extension": ".py",
   "mimetype": "text/x-python",
   "name": "python",
   "nbconvert_exporter": "python",
   "pygments_lexer": "ipython3",
   "version": "3.9.12"
  }
 },
 "nbformat": 4,
 "nbformat_minor": 2
}
