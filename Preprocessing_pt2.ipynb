{
 "cells": [
  {
   "cell_type": "markdown",
   "id": "325a8e09",
   "metadata": {},
   "source": [
    "# Data Exploratory and Preprocessing"
   ]
  },
  {
   "cell_type": "markdown",
   "id": "b3166645",
   "metadata": {},
   "source": [
    "## Importing relevant libs"
   ]
  },
  {
   "cell_type": "code",
   "execution_count": 1,
   "id": "14351067",
   "metadata": {},
   "outputs": [],
   "source": [
    "import numpy as np\n",
    "import pandas as pd\n",
    "import nltk\n",
    "import re\n",
    "import spacy\n",
    "import matplotlib.pyplot as plt\n",
    "import seaborn as sns ; sns.set()"
   ]
  },
  {
   "cell_type": "markdown",
   "id": "998566f8",
   "metadata": {},
   "source": [
    "## Loading our data and reading the head "
   ]
  },
  {
   "cell_type": "code",
   "execution_count": 2,
   "id": "3492b966",
   "metadata": {},
   "outputs": [
    {
     "data": {
      "text/html": [
       "<div>\n",
       "<style scoped>\n",
       "    .dataframe tbody tr th:only-of-type {\n",
       "        vertical-align: middle;\n",
       "    }\n",
       "\n",
       "    .dataframe tbody tr th {\n",
       "        vertical-align: top;\n",
       "    }\n",
       "\n",
       "    .dataframe thead th {\n",
       "        text-align: right;\n",
       "    }\n",
       "</style>\n",
       "<table border=\"1\" class=\"dataframe\">\n",
       "  <thead>\n",
       "    <tr style=\"text-align: right;\">\n",
       "      <th></th>\n",
       "      <th>_unit_id</th>\n",
       "      <th>_golden</th>\n",
       "      <th>_unit_state</th>\n",
       "      <th>_trusted_judgments</th>\n",
       "      <th>_last_judgment_at</th>\n",
       "      <th>policies_violated</th>\n",
       "      <th>policies_violated:confidence</th>\n",
       "      <th>city</th>\n",
       "      <th>policies_violated_gold</th>\n",
       "      <th>review</th>\n",
       "    </tr>\n",
       "  </thead>\n",
       "  <tbody>\n",
       "    <tr>\n",
       "      <th>0</th>\n",
       "      <td>679455653</td>\n",
       "      <td>False</td>\n",
       "      <td>finalized</td>\n",
       "      <td>3</td>\n",
       "      <td>2/21/15 0:36</td>\n",
       "      <td>RudeService\\rOrderProblem\\rFilthy</td>\n",
       "      <td>1.0\\r0.6667\\r0.6667</td>\n",
       "      <td>Atlanta</td>\n",
       "      <td>NaN</td>\n",
       "      <td>I'm not a huge mcds lover, but I've been to be...</td>\n",
       "    </tr>\n",
       "    <tr>\n",
       "      <th>1</th>\n",
       "      <td>679455654</td>\n",
       "      <td>False</td>\n",
       "      <td>finalized</td>\n",
       "      <td>3</td>\n",
       "      <td>2/21/15 0:27</td>\n",
       "      <td>RudeService</td>\n",
       "      <td>1</td>\n",
       "      <td>Atlanta</td>\n",
       "      <td>NaN</td>\n",
       "      <td>Terrible customer service. Î¾I came in at 9:30...</td>\n",
       "    </tr>\n",
       "    <tr>\n",
       "      <th>2</th>\n",
       "      <td>679455655</td>\n",
       "      <td>False</td>\n",
       "      <td>finalized</td>\n",
       "      <td>3</td>\n",
       "      <td>2/21/15 0:26</td>\n",
       "      <td>SlowService\\rOrderProblem</td>\n",
       "      <td>1.0\\r1.0</td>\n",
       "      <td>Atlanta</td>\n",
       "      <td>NaN</td>\n",
       "      <td>First they \"lost\" my order, actually they gave...</td>\n",
       "    </tr>\n",
       "    <tr>\n",
       "      <th>3</th>\n",
       "      <td>679455656</td>\n",
       "      <td>False</td>\n",
       "      <td>finalized</td>\n",
       "      <td>3</td>\n",
       "      <td>2/21/15 0:27</td>\n",
       "      <td>na</td>\n",
       "      <td>0.6667</td>\n",
       "      <td>Atlanta</td>\n",
       "      <td>NaN</td>\n",
       "      <td>I see I'm not the only one giving 1 star. Only...</td>\n",
       "    </tr>\n",
       "    <tr>\n",
       "      <th>4</th>\n",
       "      <td>679455657</td>\n",
       "      <td>False</td>\n",
       "      <td>finalized</td>\n",
       "      <td>3</td>\n",
       "      <td>2/21/15 0:27</td>\n",
       "      <td>RudeService</td>\n",
       "      <td>1</td>\n",
       "      <td>Atlanta</td>\n",
       "      <td>NaN</td>\n",
       "      <td>Well, it's McDonald's, so you know what the fo...</td>\n",
       "    </tr>\n",
       "    <tr>\n",
       "      <th>5</th>\n",
       "      <td>679455658</td>\n",
       "      <td>False</td>\n",
       "      <td>finalized</td>\n",
       "      <td>3</td>\n",
       "      <td>2/21/15 0:13</td>\n",
       "      <td>BadFood\\rSlowService</td>\n",
       "      <td>0.7111\\r0.6444</td>\n",
       "      <td>Atlanta</td>\n",
       "      <td>NaN</td>\n",
       "      <td>This has to be one of the worst and slowest Mc...</td>\n",
       "    </tr>\n",
       "    <tr>\n",
       "      <th>6</th>\n",
       "      <td>679455659</td>\n",
       "      <td>False</td>\n",
       "      <td>finalized</td>\n",
       "      <td>3</td>\n",
       "      <td>2/21/15 0:36</td>\n",
       "      <td>SlowService\\rScaryMcDs</td>\n",
       "      <td>0.6562\\r0.6562</td>\n",
       "      <td>Atlanta</td>\n",
       "      <td>NaN</td>\n",
       "      <td>I'm not crazy about this McDonald's. Î¾This is...</td>\n",
       "    </tr>\n",
       "    <tr>\n",
       "      <th>7</th>\n",
       "      <td>679455660</td>\n",
       "      <td>False</td>\n",
       "      <td>finalized</td>\n",
       "      <td>3</td>\n",
       "      <td>2/21/15 0:15</td>\n",
       "      <td>RudeService</td>\n",
       "      <td>0.6801</td>\n",
       "      <td>Atlanta</td>\n",
       "      <td>NaN</td>\n",
       "      <td>One Star and I'm beng kind. I blame management...</td>\n",
       "    </tr>\n",
       "    <tr>\n",
       "      <th>8</th>\n",
       "      <td>679455661</td>\n",
       "      <td>False</td>\n",
       "      <td>finalized</td>\n",
       "      <td>3</td>\n",
       "      <td>2/21/15 0:29</td>\n",
       "      <td>SlowService\\rRudeService\\rMissingFood</td>\n",
       "      <td>1.0\\r1.0\\r0.6667</td>\n",
       "      <td>Atlanta</td>\n",
       "      <td>NaN</td>\n",
       "      <td>Never been upset about any fast food drive thr...</td>\n",
       "    </tr>\n",
       "    <tr>\n",
       "      <th>9</th>\n",
       "      <td>679455662</td>\n",
       "      <td>False</td>\n",
       "      <td>finalized</td>\n",
       "      <td>3</td>\n",
       "      <td>2/21/15 0:12</td>\n",
       "      <td>na</td>\n",
       "      <td>1</td>\n",
       "      <td>Atlanta</td>\n",
       "      <td>NaN</td>\n",
       "      <td>This McDonald's has gotten much better. Usuall...</td>\n",
       "    </tr>\n",
       "  </tbody>\n",
       "</table>\n",
       "</div>"
      ],
      "text/plain": [
       "    _unit_id  _golden _unit_state  _trusted_judgments _last_judgment_at  \\\n",
       "0  679455653    False   finalized                   3      2/21/15 0:36   \n",
       "1  679455654    False   finalized                   3      2/21/15 0:27   \n",
       "2  679455655    False   finalized                   3      2/21/15 0:26   \n",
       "3  679455656    False   finalized                   3      2/21/15 0:27   \n",
       "4  679455657    False   finalized                   3      2/21/15 0:27   \n",
       "5  679455658    False   finalized                   3      2/21/15 0:13   \n",
       "6  679455659    False   finalized                   3      2/21/15 0:36   \n",
       "7  679455660    False   finalized                   3      2/21/15 0:15   \n",
       "8  679455661    False   finalized                   3      2/21/15 0:29   \n",
       "9  679455662    False   finalized                   3      2/21/15 0:12   \n",
       "\n",
       "                       policies_violated policies_violated:confidence  \\\n",
       "0      RudeService\\rOrderProblem\\rFilthy          1.0\\r0.6667\\r0.6667   \n",
       "1                            RudeService                            1   \n",
       "2              SlowService\\rOrderProblem                     1.0\\r1.0   \n",
       "3                                     na                       0.6667   \n",
       "4                            RudeService                            1   \n",
       "5                   BadFood\\rSlowService               0.7111\\r0.6444   \n",
       "6                 SlowService\\rScaryMcDs               0.6562\\r0.6562   \n",
       "7                            RudeService                       0.6801   \n",
       "8  SlowService\\rRudeService\\rMissingFood             1.0\\r1.0\\r0.6667   \n",
       "9                                     na                            1   \n",
       "\n",
       "      city  policies_violated_gold  \\\n",
       "0  Atlanta                     NaN   \n",
       "1  Atlanta                     NaN   \n",
       "2  Atlanta                     NaN   \n",
       "3  Atlanta                     NaN   \n",
       "4  Atlanta                     NaN   \n",
       "5  Atlanta                     NaN   \n",
       "6  Atlanta                     NaN   \n",
       "7  Atlanta                     NaN   \n",
       "8  Atlanta                     NaN   \n",
       "9  Atlanta                     NaN   \n",
       "\n",
       "                                              review  \n",
       "0  I'm not a huge mcds lover, but I've been to be...  \n",
       "1  Terrible customer service. Î¾I came in at 9:30...  \n",
       "2  First they \"lost\" my order, actually they gave...  \n",
       "3  I see I'm not the only one giving 1 star. Only...  \n",
       "4  Well, it's McDonald's, so you know what the fo...  \n",
       "5  This has to be one of the worst and slowest Mc...  \n",
       "6  I'm not crazy about this McDonald's. Î¾This is...  \n",
       "7  One Star and I'm beng kind. I blame management...  \n",
       "8  Never been upset about any fast food drive thr...  \n",
       "9  This McDonald's has gotten much better. Usuall...  "
      ]
     },
     "execution_count": 2,
     "metadata": {},
     "output_type": "execute_result"
    }
   ],
   "source": [
    "df = pd.read_csv('McDonalds-Yelp-Sentiment-DFE.csv', encoding = \"ISO-8859-1\")\n",
    "df.head(10)"
   ]
  },
  {
   "cell_type": "markdown",
   "id": "fe8ceab7",
   "metadata": {},
   "source": [
    "## Exploring the data"
   ]
  },
  {
   "cell_type": "markdown",
   "id": "e54acbdc",
   "metadata": {},
   "source": [
    "### The columns and shape of our dataset"
   ]
  },
  {
   "cell_type": "code",
   "execution_count": 3,
   "id": "027ed88a",
   "metadata": {
    "scrolled": true
   },
   "outputs": [
    {
     "name": "stdout",
     "output_type": "stream",
     "text": [
      "Index(['_unit_id', '_golden', '_unit_state', '_trusted_judgments',\n",
      "       '_last_judgment_at', 'policies_violated',\n",
      "       'policies_violated:confidence', 'city', 'policies_violated_gold',\n",
      "       'review'],\n",
      "      dtype='object')\n"
     ]
    },
    {
     "data": {
      "text/plain": [
       "(1525, 10)"
      ]
     },
     "execution_count": 3,
     "metadata": {},
     "output_type": "execute_result"
    }
   ],
   "source": [
    "print(df.columns)\n",
    "df.shape"
   ]
  },
  {
   "cell_type": "markdown",
   "id": "edfff746",
   "metadata": {},
   "source": [
    "### Cities that are having a lot of complaints"
   ]
  },
  {
   "cell_type": "code",
   "execution_count": 4,
   "id": "a90903c7",
   "metadata": {
    "scrolled": true
   },
   "outputs": [
    {
     "data": {
      "text/plain": [
       "[('Las Vegas', 409),\n",
       " ('Chicago', 219),\n",
       " ('Los Angeles', 167),\n",
       " ('New York', 165),\n",
       " ('Atlanta', 130),\n",
       " ('Houston', 105),\n",
       " ('Portland', 97),\n",
       " (nan, 87),\n",
       " ('Dallas', 75),\n",
       " ('Cleveland', 71)]"
      ]
     },
     "execution_count": 4,
     "metadata": {},
     "output_type": "execute_result"
    }
   ],
   "source": [
    "col_city=df[\"city\"]\n",
    "cities = list(set(col_city))\n",
    "dict_of_ct = nltk.FreqDist(col_city)\n",
    "sorted_ct = dict_of_ct.most_common()\n",
    "sorted_ct"
   ]
  },
  {
   "cell_type": "markdown",
   "id": "5fc77e76",
   "metadata": {},
   "source": [
    "### Function to plot"
   ]
  },
  {
   "cell_type": "code",
   "execution_count": 5,
   "id": "0d7cb184",
   "metadata": {},
   "outputs": [],
   "source": [
    "def freq_plotter(item_pair_freq, title):\n",
    "    plt.rcdefaults()\n",
    "    fig, ax = plt.subplots()\n",
    "    y_vals = [item[0] for item in item_pair_freq ]\n",
    "    freq = [item[1] for item in item_pair_freq]\n",
    "    y_pos = np.arange(len(y_vals))\n",
    "    ax.barh(y_pos, freq,  align='center',\n",
    "        color='purple', ecolor='black')\n",
    "    ax.set_yticks(y_pos)\n",
    "    ax.set_yticklabels(y_vals)\n",
    "    ax.invert_yaxis()  # labels read top-to-bottom\n",
    "    ax.set_xlabel('Frequency of the Label')\n",
    "    ax.set_title(title)\n",
    "\n",
    "    plt.show()\n",
    "    plt.close()"
   ]
  },
  {
   "cell_type": "code",
   "execution_count": 6,
   "id": "cc85a3bb",
   "metadata": {},
   "outputs": [
    {
     "data": {
      "image/png": "[encoded data removed]",
      "text/plain": [
       "<Figure size 640x480 with 1 Axes>"
      ]
     },
     "metadata": {},
     "output_type": "display_data"
    }
   ],
   "source": [
    "what_in_pic = sorted_ct\n",
    "ct = [(item[0], item[1]) for item in what_in_pic ]\n",
    "freq_plotter(ct, \"Distribution of complaints in cities\")"
   ]
  },
  {
   "cell_type": "markdown",
   "id": "02196b93",
   "metadata": {},
   "source": [
    "### columns of our intrest"
   ]
  },
  {
   "cell_type": "code",
   "execution_count": 7,
   "id": "1f20c1cd",
   "metadata": {
    "scrolled": true
   },
   "outputs": [
    {
     "data": {
      "text/html": [
       "<div>\n",
       "<style scoped>\n",
       "    .dataframe tbody tr th:only-of-type {\n",
       "        vertical-align: middle;\n",
       "    }\n",
       "\n",
       "    .dataframe tbody tr th {\n",
       "        vertical-align: top;\n",
       "    }\n",
       "\n",
       "    .dataframe thead th {\n",
       "        text-align: right;\n",
       "    }\n",
       "</style>\n",
       "<table border=\"1\" class=\"dataframe\">\n",
       "  <thead>\n",
       "    <tr style=\"text-align: right;\">\n",
       "      <th></th>\n",
       "      <th>review</th>\n",
       "      <th>policies_violated</th>\n",
       "    </tr>\n",
       "  </thead>\n",
       "  <tbody>\n",
       "    <tr>\n",
       "      <th>0</th>\n",
       "      <td>I'm not a huge mcds lover, but I've been to be...</td>\n",
       "      <td>RudeService\\rOrderProblem\\rFilthy</td>\n",
       "    </tr>\n",
       "    <tr>\n",
       "      <th>1</th>\n",
       "      <td>Terrible customer service. Î¾I came in at 9:30...</td>\n",
       "      <td>RudeService</td>\n",
       "    </tr>\n",
       "    <tr>\n",
       "      <th>2</th>\n",
       "      <td>First they \"lost\" my order, actually they gave...</td>\n",
       "      <td>SlowService\\rOrderProblem</td>\n",
       "    </tr>\n",
       "    <tr>\n",
       "      <th>3</th>\n",
       "      <td>I see I'm not the only one giving 1 star. Only...</td>\n",
       "      <td>na</td>\n",
       "    </tr>\n",
       "    <tr>\n",
       "      <th>4</th>\n",
       "      <td>Well, it's McDonald's, so you know what the fo...</td>\n",
       "      <td>RudeService</td>\n",
       "    </tr>\n",
       "  </tbody>\n",
       "</table>\n",
       "</div>"
      ],
      "text/plain": [
       "                                              review  \\\n",
       "0  I'm not a huge mcds lover, but I've been to be...   \n",
       "1  Terrible customer service. Î¾I came in at 9:30...   \n",
       "2  First they \"lost\" my order, actually they gave...   \n",
       "3  I see I'm not the only one giving 1 star. Only...   \n",
       "4  Well, it's McDonald's, so you know what the fo...   \n",
       "\n",
       "                   policies_violated  \n",
       "0  RudeService\\rOrderProblem\\rFilthy  \n",
       "1                        RudeService  \n",
       "2          SlowService\\rOrderProblem  \n",
       "3                                 na  \n",
       "4                        RudeService  "
      ]
     },
     "execution_count": 7,
     "metadata": {},
     "output_type": "execute_result"
    }
   ],
   "source": [
    "selected = df.loc[:,[\"review\",\"policies_violated\"]]\n",
    "selected.head(5)"
   ]
  },
  {
   "cell_type": "markdown",
   "id": "2c611aad",
   "metadata": {},
   "source": [
    "### extracting reviews as a list"
   ]
  },
  {
   "cell_type": "code",
   "execution_count": 8,
   "id": "fc665477",
   "metadata": {},
   "outputs": [
    {
     "data": {
      "text/plain": [
       "\"The drive- thru might be the worst. Î¾I've gone through a few times. Î¾The staff is rude and when they short your order your made to feel like it's your fault .\""
      ]
     },
     "execution_count": 8,
     "metadata": {},
     "output_type": "execute_result"
    }
   ],
   "source": [
    "raw_review=selected.loc[:,[\"review\"]]\n",
    "raw_review=raw_review[\"review\"]\n",
    "raw_review[169]"
   ]
  },
  {
   "cell_type": "markdown",
   "id": "04b31f2a",
   "metadata": {},
   "source": [
    "### extracting weird characters "
   ]
  },
  {
   "cell_type": "code",
   "execution_count": 9,
   "id": "e338538f",
   "metadata": {},
   "outputs": [
    {
     "name": "stdout",
     "output_type": "stream",
     "text": [
      "['^', '`', '/', '©', '+', '%', ':', '&', '\\x97', ']', '\\x8a', \"'\", '#', '[', '?', '\\x92', '~', '(', '$', ';', '!', '\"', '|', '@', '-', '*', ',', '\\\\', ')', '±', '=']\n"
     ]
    }
   ],
   "source": [
    "weird_chars = []\n",
    "for char in raw_review:\n",
    "    weird_chars += re.findall(r\"[^a-zA-Z0-9\\s\\w\\.]\", char.lower())\n",
    "weird_char_list = list(set(weird_chars))\n",
    "print(weird_char_list)"
   ]
  },
  {
   "cell_type": "code",
   "execution_count": 10,
   "id": "2a103c57",
   "metadata": {},
   "outputs": [
    {
     "data": {
      "text/plain": [
       "'^`/©+%:&\\x97]\\x8a\\'#[?\\x92~($;!\"|@-*,\\\\)±='"
      ]
     },
     "execution_count": 10,
     "metadata": {},
     "output_type": "execute_result"
    }
   ],
   "source": [
    "\"\".join(weird_char_list)"
   ]
  },
  {
   "cell_type": "markdown",
   "id": "02876373",
   "metadata": {},
   "source": [
    "### removing weird characters"
   ]
  },
  {
   "cell_type": "code",
   "execution_count": 11,
   "id": "b7997274",
   "metadata": {
    "scrolled": false
   },
   "outputs": [
    {
     "data": {
      "text/plain": [
       "'the drive thru might be the worst ive gone through a few times the staff is rude and when they short your order your made to feel like its your fault '"
      ]
     },
     "execution_count": 11,
     "metadata": {},
     "output_type": "execute_result"
    }
   ],
   "source": [
    "proc_review = [re.sub(r\"[Î¾î\\'\\\\\\%!\\$\\&\\'()\\*\\+,\\-\\.\\/:;<=>?@\\[\\]^_`{|}~]\", \"\", item).lower() for item in raw_review]\n",
    "proc_review[169] "
   ]
  },
  {
   "cell_type": "markdown",
   "id": "fb1978db",
   "metadata": {},
   "source": [
    "### replacing the review column by the new processed one"
   ]
  },
  {
   "cell_type": "code",
   "execution_count": 12,
   "id": "33c2653e",
   "metadata": {
    "scrolled": true
   },
   "outputs": [
    {
     "data": {
      "text/html": [
       "<div>\n",
       "<style scoped>\n",
       "    .dataframe tbody tr th:only-of-type {\n",
       "        vertical-align: middle;\n",
       "    }\n",
       "\n",
       "    .dataframe tbody tr th {\n",
       "        vertical-align: top;\n",
       "    }\n",
       "\n",
       "    .dataframe thead th {\n",
       "        text-align: right;\n",
       "    }\n",
       "</style>\n",
       "<table border=\"1\" class=\"dataframe\">\n",
       "  <thead>\n",
       "    <tr style=\"text-align: right;\">\n",
       "      <th></th>\n",
       "      <th>review</th>\n",
       "      <th>policies_violated</th>\n",
       "    </tr>\n",
       "  </thead>\n",
       "  <tbody>\n",
       "    <tr>\n",
       "      <th>0</th>\n",
       "      <td>im not a huge mcds lover but ive been to bette...</td>\n",
       "      <td>RudeService\\rOrderProblem\\rFilthy</td>\n",
       "    </tr>\n",
       "    <tr>\n",
       "      <th>1</th>\n",
       "      <td>terrible customer service i came in at 930pm a...</td>\n",
       "      <td>RudeService</td>\n",
       "    </tr>\n",
       "    <tr>\n",
       "      <th>2</th>\n",
       "      <td>first they \"lost\" my order actually they gave ...</td>\n",
       "      <td>SlowService\\rOrderProblem</td>\n",
       "    </tr>\n",
       "    <tr>\n",
       "      <th>3</th>\n",
       "      <td>i see im not the only one giving 1 star only b...</td>\n",
       "      <td>na</td>\n",
       "    </tr>\n",
       "    <tr>\n",
       "      <th>4</th>\n",
       "      <td>well its mcdonalds so you know what the food i...</td>\n",
       "      <td>RudeService</td>\n",
       "    </tr>\n",
       "    <tr>\n",
       "      <th>5</th>\n",
       "      <td>this has to be one of the worst and slowest mc...</td>\n",
       "      <td>BadFood\\rSlowService</td>\n",
       "    </tr>\n",
       "    <tr>\n",
       "      <th>6</th>\n",
       "      <td>im not crazy about this mcdonalds this is prim...</td>\n",
       "      <td>SlowService\\rScaryMcDs</td>\n",
       "    </tr>\n",
       "    <tr>\n",
       "      <th>7</th>\n",
       "      <td>one star and im beng kind i blame management l...</td>\n",
       "      <td>RudeService</td>\n",
       "    </tr>\n",
       "    <tr>\n",
       "      <th>8</th>\n",
       "      <td>never been upset about any fast food drive thr...</td>\n",
       "      <td>SlowService\\rRudeService\\rMissingFood</td>\n",
       "    </tr>\n",
       "    <tr>\n",
       "      <th>9</th>\n",
       "      <td>this mcdonalds has gotten much better usually ...</td>\n",
       "      <td>na</td>\n",
       "    </tr>\n",
       "  </tbody>\n",
       "</table>\n",
       "</div>"
      ],
      "text/plain": [
       "                                              review  \\\n",
       "0  im not a huge mcds lover but ive been to bette...   \n",
       "1  terrible customer service i came in at 930pm a...   \n",
       "2  first they \"lost\" my order actually they gave ...   \n",
       "3  i see im not the only one giving 1 star only b...   \n",
       "4  well its mcdonalds so you know what the food i...   \n",
       "5  this has to be one of the worst and slowest mc...   \n",
       "6  im not crazy about this mcdonalds this is prim...   \n",
       "7  one star and im beng kind i blame management l...   \n",
       "8  never been upset about any fast food drive thr...   \n",
       "9  this mcdonalds has gotten much better usually ...   \n",
       "\n",
       "                       policies_violated  \n",
       "0      RudeService\\rOrderProblem\\rFilthy  \n",
       "1                            RudeService  \n",
       "2              SlowService\\rOrderProblem  \n",
       "3                                     na  \n",
       "4                            RudeService  \n",
       "5                   BadFood\\rSlowService  \n",
       "6                 SlowService\\rScaryMcDs  \n",
       "7                            RudeService  \n",
       "8  SlowService\\rRudeService\\rMissingFood  \n",
       "9                                     na  "
      ]
     },
     "execution_count": 12,
     "metadata": {},
     "output_type": "execute_result"
    }
   ],
   "source": [
    "selected[[\"review\"]] = pd.DataFrame(proc_review)\n",
    "selected[:10]"
   ]
  },
  {
   "cell_type": "markdown",
   "id": "7447cf7f",
   "metadata": {},
   "source": [
    "### Handling missing values with na or nan label"
   ]
  },
  {
   "cell_type": "code",
   "execution_count": 13,
   "id": "5a184c98",
   "metadata": {
    "scrolled": false
   },
   "outputs": [
    {
     "name": "stdout",
     "output_type": "stream",
     "text": [
      "There are  349 bad indices \n",
      "\n",
      "[3, 9, 32, 36, 37, 38, 45, 49, 52, 53, 57, 60, 61, 63, 64, 66, 67, 71, 76, 77, 83, 84, 91, 95, 101, 102, 110, 117, 128, 151, 157, 161, 180, 184, 188, 207, 211, 218, 219, 228, 236, 245, 251, 253, 262, 265, 266, 267, 271, 278, 291, 295, 298, 306, 308, 309, 312, 318, 319, 320, 322, 325, 326, 327, 329, 332, 333, 339, 340, 345, 346, 356, 358, 361, 362, 363, 365, 366, 370, 377, 379, 383, 385, 386, 388, 397, 398, 400, 403, 405, 408, 409, 410, 415, 416, 418, 426, 427, 436, 447, 452, 456, 461, 462, 468, 469, 470, 474, 476, 480, 482, 485, 493, 494, 497, 499, 503, 504, 509, 511, 514, 518, 522, 544, 559, 561, 563, 565, 572, 575, 579, 581, 585, 589, 591, 595, 602, 608, 618, 623, 625, 626, 629, 634, 640, 641, 643, 659, 664, 668, 669, 671, 676, 677, 680, 684, 691, 692, 694, 698, 701, 713, 714, 722, 724, 734, 748, 749, 751, 755, 762, 763, 764, 772, 774, 778, 779, 783, 784, 787, 789, 797, 800, 801, 804, 806, 807, 810, 812, 814, 815, 817, 822, 824, 826, 835, 840, 850, 858, 859, 864, 869, 881, 882, 886, 887, 888, 894, 895, 897, 899, 906, 909, 911, 923, 925, 932, 940, 960, 961, 965, 967, 969, 973, 982, 984, 989, 999, 1000, 1010, 1014, 1020, 1023, 1026, 1030, 1035, 1038, 1042, 1046, 1048, 1052, 1055, 1057, 1058, 1060, 1067, 1069, 1070, 1072, 1083, 1084, 1085, 1086, 1092, 1098, 1100, 1111, 1113, 1123, 1127, 1129, 1138, 1144, 1145, 1149, 1152, 1155, 1157, 1158, 1161, 1162, 1169, 1175, 1176, 1178, 1186, 1200, 1201, 1202, 1203, 1210, 1213, 1215, 1222, 1234, 1244, 1245, 1254, 1263, 1271, 1272, 1273, 1275, 1282, 1287, 1288, 1290, 1298, 1301, 1307, 1308, 1309, 1319, 1322, 1325, 1329, 1341, 1342, 1347, 1352, 1354, 1361, 1363, 1366, 1367, 1368, 1377, 1380, 1384, 1385, 1387, 1388, 1395, 1398, 1399, 1400, 1401, 1408, 1411, 1420, 1423, 1432, 1440, 1441, 1449, 1456, 1460, 1461, 1462, 1472, 1474, 1480, 1482, 1484, 1495, 1496, 1506, 1508, 1515]\n"
     ]
    }
   ],
   "source": [
    "na_ind = [] ## list of indexes of reviews with na label\n",
    "multi_labels = [] ## list of indexes of reviews with multi labels\n",
    "nan_ind = [] # list of indexes of reviews with nan label\n",
    "\n",
    "for i in range(len(selected)):\n",
    "    if selected.loc[i, \"policies_violated\"] == \"na\":\n",
    "        na_ind.append(i)\n",
    "    else:\n",
    "        try:\n",
    "            if len(selected.loc[i, \"policies_violated\"].split(\"\\r\"))>1:\n",
    "                multi_labels.append(i)\n",
    "        except:\n",
    "            nan_ind.append(i)\n",
    "bad_ind = list(set(na_ind + nan_ind))\n",
    "print(\"There are \", len(bad_ind), \"bad indices \\n\")\n",
    "print(bad_ind)"
   ]
  },
  {
   "cell_type": "markdown",
   "id": "f20a6c36",
   "metadata": {},
   "source": [
    "#### Let's see how they look like "
   ]
  },
  {
   "cell_type": "code",
   "execution_count": 14,
   "id": "bc5b49d8",
   "metadata": {},
   "outputs": [
    {
     "name": "stdout",
     "output_type": "stream",
     "text": [
      "i see im not the only one giving 1 star only because there is not a 25 star thats all i need to say\n",
      "\n",
      "this mcdonalds has gotten much better usually my order would be wrong every single time so i would not leave that window until i checked every single item i only hit up fast food once a month or so and it needs to be worth it also the fries used to be cold and the cheese on the burger was never melted everything was just lukewarm now my order has been right a few times in a row and my food hot also i love dining room usually you wouldnt find me actually inside a fast food joint but this place has nice flooring stacked stone lots of large windows and a flat screen tv usually on hln sometimes its nice to sneak away for a quick weekend breakfast you know a little budget and time friendly mommy and me date\n",
      "\n",
      "this has got to be one of the busiest mcdonalds in the metro area  if not the southeast  and they are fairly efficient despite being so busy all the timeyou can come by just about any time of the day and find the line of cars for the \"drivethru\" wrapped around the buildingits generally more efficient to go into the building and place your order than wait in the line of cars spewing smog and since the building is open 24 hours now that should make it easy to get your mcfixgood job clairmont mcdonalds\n",
      "\n",
      "regular mcdonalds close to the highway which can be good and bad\n",
      "\n",
      "stopped here on the way downtown this morning to get a yogurt parfait these snakes gave me dairy products that had an expired \"use by\" sticker and i didnt even notice until i was halfway to downtown gross guys theres no point in putting freshness dates on your food if the employees cant or wont read\n",
      "\n",
      "i highly recommend this mcdonaldsif and only if you are trapped at northside hospital are ravenously hungry and have absolutely no other option eating at this mcdonalds is slightly better than eating out of a vending machine or dumpster\n",
      "\n",
      "a captive audience of transient visitors and exhausted staff are the only way this mcdonalds which is basically the only food option at northside hospital could possibly stay in business\n",
      "\n"
     ]
    }
   ],
   "source": [
    "for ind in bad_ind[:7] :\n",
    "    print(selected.loc[ind,\"review\"] + \"\\n\")"
   ]
  },
  {
   "cell_type": "markdown",
   "id": "c4894375",
   "metadata": {},
   "source": [
    "#### As we can see the reviews are quite ambiguous for us as humans (don't  have any sens) and don't relate to the labels"
   ]
  },
  {
   "cell_type": "markdown",
   "id": "05f1a2c6",
   "metadata": {},
   "source": [
    "### Ignoring the reviews with missing label"
   ]
  },
  {
   "cell_type": "code",
   "execution_count": 15,
   "id": "2529cd2a",
   "metadata": {},
   "outputs": [
    {
     "data": {
      "text/html": [
       "<div>\n",
       "<style scoped>\n",
       "    .dataframe tbody tr th:only-of-type {\n",
       "        vertical-align: middle;\n",
       "    }\n",
       "\n",
       "    .dataframe tbody tr th {\n",
       "        vertical-align: top;\n",
       "    }\n",
       "\n",
       "    .dataframe thead th {\n",
       "        text-align: right;\n",
       "    }\n",
       "</style>\n",
       "<table border=\"1\" class=\"dataframe\">\n",
       "  <thead>\n",
       "    <tr style=\"text-align: right;\">\n",
       "      <th></th>\n",
       "      <th>review</th>\n",
       "      <th>policies_violated</th>\n",
       "    </tr>\n",
       "  </thead>\n",
       "  <tbody>\n",
       "    <tr>\n",
       "      <th>0</th>\n",
       "      <td>im not a huge mcds lover but ive been to bette...</td>\n",
       "      <td>RudeService\\rOrderProblem\\rFilthy</td>\n",
       "    </tr>\n",
       "    <tr>\n",
       "      <th>1</th>\n",
       "      <td>terrible customer service i came in at 930pm a...</td>\n",
       "      <td>RudeService</td>\n",
       "    </tr>\n",
       "    <tr>\n",
       "      <th>2</th>\n",
       "      <td>first they \"lost\" my order actually they gave ...</td>\n",
       "      <td>SlowService\\rOrderProblem</td>\n",
       "    </tr>\n",
       "    <tr>\n",
       "      <th>4</th>\n",
       "      <td>well its mcdonalds so you know what the food i...</td>\n",
       "      <td>RudeService</td>\n",
       "    </tr>\n",
       "    <tr>\n",
       "      <th>5</th>\n",
       "      <td>this has to be one of the worst and slowest mc...</td>\n",
       "      <td>BadFood\\rSlowService</td>\n",
       "    </tr>\n",
       "    <tr>\n",
       "      <th>...</th>\n",
       "      <td>...</td>\n",
       "      <td>...</td>\n",
       "    </tr>\n",
       "    <tr>\n",
       "      <th>1520</th>\n",
       "      <td>i enjoyed the part where i repeatedly asked if...</td>\n",
       "      <td>OrderProblem</td>\n",
       "    </tr>\n",
       "    <tr>\n",
       "      <th>1521</th>\n",
       "      <td>worst mcdonalds ive been in in a long time dir...</td>\n",
       "      <td>SlowService\\rFilthy\\rBadFood</td>\n",
       "    </tr>\n",
       "    <tr>\n",
       "      <th>1522</th>\n",
       "      <td>when i am really craving for mcdonalds this se...</td>\n",
       "      <td>ScaryMcDs</td>\n",
       "    </tr>\n",
       "    <tr>\n",
       "      <th>1523</th>\n",
       "      <td>two points right out of the gate 1 thuggery kn...</td>\n",
       "      <td>ScaryMcDs</td>\n",
       "    </tr>\n",
       "    <tr>\n",
       "      <th>1524</th>\n",
       "      <td>i wanted to grab breakfast one morning before ...</td>\n",
       "      <td>ScaryMcDs\\rSlowService</td>\n",
       "    </tr>\n",
       "  </tbody>\n",
       "</table>\n",
       "<p>1176 rows × 2 columns</p>\n",
       "</div>"
      ],
      "text/plain": [
       "                                                 review  \\\n",
       "0     im not a huge mcds lover but ive been to bette...   \n",
       "1     terrible customer service i came in at 930pm a...   \n",
       "2     first they \"lost\" my order actually they gave ...   \n",
       "4     well its mcdonalds so you know what the food i...   \n",
       "5     this has to be one of the worst and slowest mc...   \n",
       "...                                                 ...   \n",
       "1520  i enjoyed the part where i repeatedly asked if...   \n",
       "1521  worst mcdonalds ive been in in a long time dir...   \n",
       "1522  when i am really craving for mcdonalds this se...   \n",
       "1523  two points right out of the gate 1 thuggery kn...   \n",
       "1524  i wanted to grab breakfast one morning before ...   \n",
       "\n",
       "                      policies_violated  \n",
       "0     RudeService\\rOrderProblem\\rFilthy  \n",
       "1                           RudeService  \n",
       "2             SlowService\\rOrderProblem  \n",
       "4                           RudeService  \n",
       "5                  BadFood\\rSlowService  \n",
       "...                                 ...  \n",
       "1520                       OrderProblem  \n",
       "1521       SlowService\\rFilthy\\rBadFood  \n",
       "1522                          ScaryMcDs  \n",
       "1523                          ScaryMcDs  \n",
       "1524             ScaryMcDs\\rSlowService  \n",
       "\n",
       "[1176 rows x 2 columns]"
      ]
     },
     "execution_count": 15,
     "metadata": {},
     "output_type": "execute_result"
    }
   ],
   "source": [
    "rest_ind= [i for i in range(len(selected)) if i not in bad_ind] # The rest of indices\n",
    "my_final_data = selected.loc[rest_ind,:]\n",
    "my_final_data # Fial clean data"
   ]
  },
  {
   "cell_type": "code",
   "execution_count": 16,
   "id": "aaf03853",
   "metadata": {},
   "outputs": [
    {
     "data": {
      "text/plain": [
       "0       RudeService\\rOrderProblem\\rFilthy\n",
       "1                             RudeService\n",
       "2               SlowService\\rOrderProblem\n",
       "4                             RudeService\n",
       "5                    BadFood\\rSlowService\n",
       "                      ...                \n",
       "1520                         OrderProblem\n",
       "1521         SlowService\\rFilthy\\rBadFood\n",
       "1522                            ScaryMcDs\n",
       "1523                            ScaryMcDs\n",
       "1524               ScaryMcDs\\rSlowService\n",
       "Name: policies_violated, Length: 1176, dtype: object"
      ]
     },
     "execution_count": 16,
     "metadata": {},
     "output_type": "execute_result"
    }
   ],
   "source": [
    "col_labels = my_final_data['policies_violated'] #getting the labels column\n",
    "col_labels"
   ]
  },
  {
   "cell_type": "code",
   "execution_count": 17,
   "id": "de232051",
   "metadata": {},
   "outputs": [
    {
     "data": {
      "text/plain": [
       "145"
      ]
     },
     "execution_count": 17,
     "metadata": {},
     "output_type": "execute_result"
    }
   ],
   "source": [
    "labels = list(set(col_labels))\n",
    "len(labels) #number of unique labels combination"
   ]
  },
  {
   "cell_type": "code",
   "execution_count": 18,
   "id": "e78106ef",
   "metadata": {
    "scrolled": true
   },
   "outputs": [
    {
     "data": {
      "text/plain": [
       "['RudeService\\rSlowService\\rBadFood',\n",
       " 'SlowService\\rBadFood\\rRudeService',\n",
       " 'SlowService\\rScaryMcDs\\rRudeService',\n",
       " 'Filthy\\rOrderProblem',\n",
       " 'RudeService\\rBadFood\\rFilthy',\n",
       " 'SlowService',\n",
       " 'BadFood\\rSlowService',\n",
       " 'OrderProblem\\rBadFood',\n",
       " 'SlowService\\rOrderProblem\\rFilthy',\n",
       " 'RudeService\\rFilthy']"
      ]
     },
     "execution_count": 18,
     "metadata": {},
     "output_type": "execute_result"
    }
   ],
   "source": [
    "labels[:10]"
   ]
  },
  {
   "cell_type": "markdown",
   "id": "97b67a7f",
   "metadata": {},
   "source": [
    "### Distribution of these labels"
   ]
  },
  {
   "cell_type": "code",
   "execution_count": 19,
   "id": "27792619",
   "metadata": {
    "scrolled": false
   },
   "outputs": [
    {
     "data": {
      "text/plain": [
       "[('RudeService', 177),\n",
       " ('SlowService', 127),\n",
       " ('OrderProblem', 116),\n",
       " ('BadFood', 101),\n",
       " ('ScaryMcDs', 71),\n",
       " ('SlowService\\rRudeService', 56),\n",
       " ('RudeService\\rOrderProblem', 53),\n",
       " ('Filthy', 43),\n",
       " ('OrderProblem\\rRudeService', 29),\n",
       " ('RudeService\\rBadFood', 27),\n",
       " ('SlowService\\rOrderProblem', 26),\n",
       " ('RudeService\\rSlowService', 19),\n",
       " ('MissingFood', 18),\n",
       " ('Cost', 16),\n",
       " ('OrderProblem\\rSlowService', 14),\n",
       " ('BadFood\\rRudeService', 13),\n",
       " ('SlowService\\rBadFood', 12),\n",
       " ('OrderProblem\\rBadFood', 11),\n",
       " ('RudeService\\rFilthy', 10),\n",
       " ('BadFood\\rOrderProblem', 9),\n",
       " ('BadFood\\rSlowService', 8),\n",
       " ('Filthy\\rBadFood', 7),\n",
       " ('Filthy\\rRudeService', 7),\n",
       " ('SlowService\\rRudeService\\rOrderProblem', 7),\n",
       " ('ScaryMcDs\\rRudeService', 7),\n",
       " ('RudeService\\rScaryMcDs', 6),\n",
       " ('SlowService\\rFilthy', 6),\n",
       " ('SlowService\\rOrderProblem\\rRudeService', 5),\n",
       " ('SlowService\\rScaryMcDs', 4),\n",
       " ('BadFood\\rCost', 4),\n",
       " ('ScaryMcDs\\rBadFood', 4),\n",
       " ('RudeService\\rSlowService\\rOrderProblem', 4),\n",
       " ('RudeService\\rMissingFood', 4),\n",
       " ('SlowService\\rRudeService\\rBadFood', 4),\n",
       " ('ScaryMcDs\\rOrderProblem', 4),\n",
       " ('Filthy\\rScaryMcDs', 4),\n",
       " ('RudeService\\rOrderProblem\\rFilthy', 3),\n",
       " ('RudeService\\rOrderProblem\\rBadFood', 3),\n",
       " ('SlowService\\rRudeService\\rOrderProblem\\rBadFood', 3),\n",
       " ('SlowService\\rFilthy\\rBadFood', 3),\n",
       " ('ScaryMcDs\\rSlowService', 3),\n",
       " ('SlowService\\rMissingFood', 3),\n",
       " ('RudeService\\rCost', 3),\n",
       " ('OrderProblem\\rSlowService\\rRudeService', 3),\n",
       " ('Cost\\rRudeService', 3),\n",
       " ('SlowService\\rCost', 2),\n",
       " ('RudeService\\rOrderProblem\\rSlowService', 2),\n",
       " ('BadFood\\rScaryMcDs', 2),\n",
       " ('OrderProblem\\rCost', 2),\n",
       " ('SlowService\\rScaryMcDs\\rFilthy', 2),\n",
       " ('BadFood\\rFilthy', 2),\n",
       " ('BadFood\\rRudeService\\rOrderProblem', 2),\n",
       " ('OrderProblem\\rFilthy', 2),\n",
       " ('SlowService\\rOrderProblem\\rFilthy', 2),\n",
       " ('OrderProblem\\rRudeService\\rBadFood', 2),\n",
       " ('RudeService\\rBadFood\\rSlowService', 2),\n",
       " ('SlowService\\rScaryMcDs\\rBadFood', 2),\n",
       " ('OrderProblem\\rFilthy\\rSlowService\\rRudeService', 2),\n",
       " ('na\\rScaryMcDs', 2),\n",
       " ('Filthy\\rSlowService', 2),\n",
       " ('SlowService\\rRudeService\\rFilthy', 2),\n",
       " ('SlowService\\rRudeService\\rMissingFood', 1),\n",
       " ('BadFood\\rRudeService\\rSlowService', 1),\n",
       " ('SlowService\\rMissingFood\\rBadFood', 1),\n",
       " ('RudeService\\rOrderProblem\\rBadFood\\rFilthy', 1),\n",
       " ('RudeService\\rBadFood\\rFilthy\\rSlowService', 1),\n",
       " ('Cost\\rMissingFood', 1),\n",
       " ('Filthy\\rna\\rSlowService\\rScaryMcDs\\rRudeService\\rOrderProblem\\rMissingFood\\rCost\\rBadFood',\n",
       "  1),\n",
       " ('Filthy\\rRudeService\\rOrderProblem', 1),\n",
       " ('BadFood\\rMissingFood', 1),\n",
       " ('na\\rCost', 1),\n",
       " ('RudeService\\rOrderProblem\\rMissingFood\\rBadFood', 1),\n",
       " ('OrderProblem\\rBadFood\\rRudeService', 1),\n",
       " ('Cost\\rOrderProblem', 1),\n",
       " ('ScaryMcDs\\rOrderProblem\\rMissingFood', 1),\n",
       " ('OrderProblem\\rMissingFood\\rSlowService', 1),\n",
       " ('SlowService\\rOrderProblem\\rMissingFood', 1),\n",
       " ('RudeService\\rSlowService\\rBadFood', 1),\n",
       " ('RudeService\\rBadFood\\rSlowService\\rOrderProblem', 1),\n",
       " ('RudeService\\rFilthy\\rSlowService\\rOrderProblem', 1),\n",
       " ('OrderProblem\\rBadFood\\rSlowService', 1),\n",
       " ('RudeService\\rSlowService\\rOrderProblem\\rBadFood', 1),\n",
       " ('BadFood\\rFilthy\\rRudeService', 1),\n",
       " ('ScaryMcDs\\rSlowService\\rBadFood', 1),\n",
       " ('RudeService\\rBadFood\\rMissingFood', 1),\n",
       " ('SlowService\\rBadFood\\rCost', 1),\n",
       " ('ScaryMcDs\\rMissingFood', 1),\n",
       " ('OrderProblem\\rFilthy\\rScaryMcDs', 1),\n",
       " ('Filthy\\rBadFood\\rRudeService', 1),\n",
       " ('Cost\\rBadFood', 1),\n",
       " ('OrderProblem\\rRudeService\\rFilthy', 1),\n",
       " ('BadFood\\rRudeService\\rCost', 1),\n",
       " ('OrderProblem\\rRudeService\\rCost', 1),\n",
       " ('BadFood\\rRudeService\\rFilthy', 1),\n",
       " ('MissingFood\\rOrderProblem', 1),\n",
       " ('RudeService\\rBadFood\\rFilthy', 1),\n",
       " ('SlowService\\rBadFood\\rFilthy', 1),\n",
       " ('Cost\\rBadFood\\rOrderProblem', 1),\n",
       " ('Cost\\rMissingFood\\rRudeService', 1),\n",
       " ('SlowService\\rBadFood\\rRudeService', 1),\n",
       " ('ScaryMcDs\\rRudeService\\rFilthy', 1),\n",
       " ('na\\rSlowService\\rScaryMcDs\\rRudeService\\rOrderProblem\\rFilthy\\rCost', 1),\n",
       " ('Cost\\rna', 1),\n",
       " ('BadFood\\rSlowService\\rRudeService', 1),\n",
       " ('OrderProblem\\rScaryMcDs', 1),\n",
       " ('RudeService\\rFilthy\\rSlowService', 1),\n",
       " ('ScaryMcDs\\rSlowService\\rRudeService\\rFilthy', 1),\n",
       " ('Filthy\\rSlowService\\rRudeService', 1),\n",
       " ('SlowService\\rOrderProblem\\rCost\\rna\\rScaryMcDs\\rRudeService\\rMissingFood\\rFilthy\\rBadFood',\n",
       "  1),\n",
       " ('na\\rScaryMcDs\\rBadFood', 1),\n",
       " ('ScaryMcDs\\rSlowService\\rRudeService', 1),\n",
       " ('Cost\\rFilthy', 1),\n",
       " ('SlowService\\rMissingFood\\rCost', 1),\n",
       " ('SlowService\\rScaryMcDs\\rRudeService', 1),\n",
       " ('SlowService\\rBadFood\\rMissingFood', 1),\n",
       " ('Filthy\\rScaryMcDs\\rBadFood', 1),\n",
       " ('SlowService\\rFilthy\\rBadFood\\rRudeService', 1),\n",
       " ('SlowService\\rRudeService\\rOrderProblem\\rFilthy\\rCost', 1),\n",
       " ('RudeService\\rOrderProblem\\rMissingFood\\rFilthy', 1),\n",
       " ('MissingFood\\rSlowService', 1),\n",
       " ('OrderProblem\\rRudeService\\rMissingFood', 1),\n",
       " ('RudeService\\rScaryMcDs\\rMissingFood\\rFilthy\\rCost', 1),\n",
       " ('SlowService\\rMissingFood\\rna\\rScaryMcDs\\rRudeService\\rOrderProblem\\rFilthy\\rCost\\rBadFood',\n",
       "  1),\n",
       " ('Filthy\\rOrderProblem', 1),\n",
       " ('BadFood\\rMissingFood\\rRudeService', 1),\n",
       " ('Filthy\\rna', 1),\n",
       " ('Cost\\rScaryMcDs\\rRudeService', 1),\n",
       " ('RudeService\\rCost\\rSlowService\\rMissingFood', 1),\n",
       " ('na\\rSlowService\\rScaryMcDs', 1),\n",
       " ('SlowService\\rCost\\rRudeService', 1),\n",
       " ('SlowService\\rOrderProblem\\rBadFood', 1),\n",
       " ('ScaryMcDs\\rFilthy', 1),\n",
       " ('MissingFood\\rRudeService', 1),\n",
       " ('OrderProblem\\rScaryMcDs\\rBadFood', 1),\n",
       " ('SlowService\\rCost\\rScaryMcDs', 1),\n",
       " ('BadFood\\rScaryMcDs\\rFilthy', 1),\n",
       " ('OrderProblem\\rMissingFood', 1),\n",
       " ('RudeService\\rSlowService\\rOrderProblem\\rMissingFood', 1),\n",
       " ('RudeService\\rBadFood\\rScaryMcDs', 1),\n",
       " ('Filthy\\rBadFood\\rOrderProblem', 1),\n",
       " ('OrderProblem\\rMissingFood\\rFilthy\\rna\\rSlowService\\rScaryMcDs\\rRudeService\\rCost\\rBadFood',\n",
       "  1),\n",
       " ('Filthy\\rCost\\rSlowService', 1),\n",
       " ('na\\rBadFood', 1),\n",
       " ('MissingFood\\rFilthy', 1),\n",
       " ('MissingFood\\rBadFood', 1)]"
      ]
     },
     "execution_count": 19,
     "metadata": {},
     "output_type": "execute_result"
    }
   ],
   "source": [
    "dict_of_distrb = nltk.FreqDist(col_labels)\n",
    "sorted_raw_label_req = dict_of_distrb.most_common()\n",
    "sorted_raw_label_req"
   ]
  },
  {
   "cell_type": "markdown",
   "id": "1e2fcd80",
   "metadata": {},
   "source": [
    "### Plotting top 20 raw labels frequencies"
   ]
  },
  {
   "cell_type": "code",
   "execution_count": 20,
   "id": "deb27137",
   "metadata": {},
   "outputs": [
    {
     "data": {
      "image/png": "[encoded data removed]",
      "text/plain": [
       "<Figure size 640x480 with 1 Axes>"
      ]
     },
     "metadata": {},
     "output_type": "display_data"
    }
   ],
   "source": [
    "what_in_pic = sorted_raw_label_req[:20]\n",
    "people = [(item[0].replace(\"\\r\", \" & \"), item[1]) for item in what_in_pic ]\n",
    "freq_plotter(people, \"Frequencies of raw Lable\")"
   ]
  },
  {
   "cell_type": "markdown",
   "id": "33e87b1a",
   "metadata": {},
   "source": [
    "#### According to the distribution we notice that several multi-labels have a very low frequency of 1,2,3 or 4....etc\n",
    "#### Hence Merging becomes a must !"
   ]
  },
  {
   "cell_type": "code",
   "execution_count": 21,
   "id": "948267b4",
   "metadata": {},
   "outputs": [
    {
     "data": {
      "text/plain": [
       "{'BadFood',\n",
       " 'Cost',\n",
       " 'Filthy',\n",
       " 'MissingFood',\n",
       " 'OrderProblem',\n",
       " 'RudeService',\n",
       " 'ScaryMcDs',\n",
       " 'SlowService',\n",
       " 'na'}"
      ]
     },
     "execution_count": 21,
     "metadata": {},
     "output_type": "execute_result"
    }
   ],
   "source": [
    "classes = set(sum( list(map(lambda x: x.split(\"\\r\"), labels)) , [] ))\n",
    "classes # The 8 labels plus one for na/nan"
   ]
  },
  {
   "cell_type": "code",
   "execution_count": 22,
   "id": "9ef32a67",
   "metadata": {
    "scrolled": false
   },
   "outputs": [
    {
     "data": {
      "text/plain": [
       "{'BadFood': 255,\n",
       " 'Cost': 49,\n",
       " 'Filthy': 127,\n",
       " 'MissingFood': 52,\n",
       " 'OrderProblem': 333,\n",
       " 'RudeService': 498,\n",
       " 'ScaryMcDs': 126,\n",
       " 'SlowService': 359}"
      ]
     },
     "execution_count": 22,
     "metadata": {},
     "output_type": "execute_result"
    }
   ],
   "source": [
    "classes = ['BadFood',  'Cost',  'Filthy', 'MissingFood', 'OrderProblem', 'RudeService', 'ScaryMcDs', 'SlowService']\n",
    "term_freq = dict.fromkeys(classes, 0) #creating dictionnary with every label and its frequency\n",
    "for item in np.array(col_labels):\n",
    "    try: \n",
    "        for lab in item.split(\"\\r\"):\n",
    "            term_freq[lab]+=1\n",
    "    except:\n",
    "        continue\n",
    "term_freq"
   ]
  },
  {
   "cell_type": "code",
   "execution_count": 23,
   "id": "5fef8280",
   "metadata": {},
   "outputs": [
    {
     "data": {
      "image/png": "[encoded data removed]",
      "text/plain": [
       "<Figure size 640x480 with 1 Axes>"
      ]
     },
     "metadata": {},
     "output_type": "display_data"
    }
   ],
   "source": [
    "freq_plotter(term_freq.items(), \"Frequency of each single label\")"
   ]
  },
  {
   "cell_type": "markdown",
   "id": "d83dcc12",
   "metadata": {},
   "source": [
    "#### We notice that our data is not quite balanced\n",
    "#### - To get a data less imbalanced we will implement these two strategies : \n",
    "1- For multi-label we will take only the first label among them (as it has the highest confidence level)\n",
    "\n",
    "2- We will merge small classes with larger ones which have the same idea, as follows :\n",
    "- Cost + MissingFood =====> OrderProblem\n",
    "- ScaryMcDs =====> Filthy\n"
   ]
  },
  {
   "cell_type": "code",
   "execution_count": 24,
   "id": "b2386186",
   "metadata": {},
   "outputs": [
    {
     "data": {
      "text/plain": [
       "FreqDist({'RudeService': 328, 'SlowService': 284, 'OrderProblem': 192, 'BadFood': 150, 'ScaryMcDs': 99, 'Filthy': 72, 'Cost': 28, 'MissingFood': 23})"
      ]
     },
     "execution_count": 24,
     "metadata": {},
     "output_type": "execute_result"
    }
   ],
   "source": [
    "def label_shortener_to_first(long_label):\n",
    "    splited_labels = long_label.split(\"\\r\")\n",
    "    if splited_labels[0] == \"na\": \n",
    "        return splited_labels[1]\n",
    "    else:\n",
    "        return splited_labels[0]\n",
    "nltk.FreqDist(list(map(label_shortener_to_first, col_labels)))"
   ]
  },
  {
   "cell_type": "code",
   "execution_count": 25,
   "id": "faad67a8",
   "metadata": {},
   "outputs": [
    {
     "data": {
      "text/plain": [
       "FreqDist({'RudeService': 308, 'SlowService': 263, 'OrderProblem': 234, 'Filthy': 226, 'BadFood': 145})"
      ]
     },
     "execution_count": 25,
     "metadata": {},
     "output_type": "execute_result"
    }
   ],
   "source": [
    "def label_shortener_uniform(long_label):\n",
    "    splited_labels = long_label.split(\"\\r\")\n",
    "    if \"Filthy\" in splited_labels:\n",
    "        res = \"Filthy\"\n",
    "    else:\n",
    "        if splited_labels[0] == \"na\": \n",
    "            res = splited_labels[1]\n",
    "        else:\n",
    "            res = splited_labels[0]\n",
    "    if res == \"Cost\":\n",
    "        res = \"OrderProblem\"\n",
    "    if res == \"MissingFood\":\n",
    "        res = \"OrderProblem\"\n",
    "    if res == \"ScaryMcDs\":\n",
    "        res = \"Filthy\" # BadFood\n",
    "    return res \n",
    "    \n",
    "unif_labels = list(map(label_shortener_uniform, col_labels))\n",
    "nltk.FreqDist(unif_labels)"
   ]
  },
  {
   "cell_type": "code",
   "execution_count": 26,
   "id": "eecf3b80",
   "metadata": {},
   "outputs": [
    {
     "data": {
      "image/png": "[encoded data removed]",
      "text/plain": [
       "<Figure size 640x480 with 1 Axes>"
      ]
     },
     "metadata": {},
     "output_type": "display_data"
    }
   ],
   "source": [
    "freq_plotter(nltk.FreqDist(unif_labels).items(), \"Frequencies of the new labels for the transformed prolem\")"
   ]
  },
  {
   "cell_type": "markdown",
   "id": "b5e1573a",
   "metadata": {},
   "source": [
    "#### We managed to get a more balanced data than earlier as we can see in the figure"
   ]
  },
  {
   "cell_type": "markdown",
   "id": "9dcd9eba",
   "metadata": {},
   "source": [
    "## Adding the unified label column"
   ]
  },
  {
   "cell_type": "code",
   "execution_count": 27,
   "id": "18839292",
   "metadata": {},
   "outputs": [
    {
     "data": {
      "text/html": [
       "<div>\n",
       "<style scoped>\n",
       "    .dataframe tbody tr th:only-of-type {\n",
       "        vertical-align: middle;\n",
       "    }\n",
       "\n",
       "    .dataframe tbody tr th {\n",
       "        vertical-align: top;\n",
       "    }\n",
       "\n",
       "    .dataframe thead th {\n",
       "        text-align: right;\n",
       "    }\n",
       "</style>\n",
       "<table border=\"1\" class=\"dataframe\">\n",
       "  <thead>\n",
       "    <tr style=\"text-align: right;\">\n",
       "      <th></th>\n",
       "      <th>review</th>\n",
       "      <th>policies_violated</th>\n",
       "      <th>policy</th>\n",
       "    </tr>\n",
       "  </thead>\n",
       "  <tbody>\n",
       "    <tr>\n",
       "      <th>0</th>\n",
       "      <td>im not a huge mcds lover but ive been to bette...</td>\n",
       "      <td>RudeService\\rOrderProblem\\rFilthy</td>\n",
       "      <td>Filthy</td>\n",
       "    </tr>\n",
       "    <tr>\n",
       "      <th>1</th>\n",
       "      <td>terrible customer service i came in at 930pm a...</td>\n",
       "      <td>RudeService</td>\n",
       "      <td>RudeService</td>\n",
       "    </tr>\n",
       "    <tr>\n",
       "      <th>2</th>\n",
       "      <td>first they \"lost\" my order actually they gave ...</td>\n",
       "      <td>SlowService\\rOrderProblem</td>\n",
       "      <td>SlowService</td>\n",
       "    </tr>\n",
       "    <tr>\n",
       "      <th>4</th>\n",
       "      <td>well its mcdonalds so you know what the food i...</td>\n",
       "      <td>RudeService</td>\n",
       "      <td>RudeService</td>\n",
       "    </tr>\n",
       "    <tr>\n",
       "      <th>5</th>\n",
       "      <td>this has to be one of the worst and slowest mc...</td>\n",
       "      <td>BadFood\\rSlowService</td>\n",
       "      <td>BadFood</td>\n",
       "    </tr>\n",
       "    <tr>\n",
       "      <th>...</th>\n",
       "      <td>...</td>\n",
       "      <td>...</td>\n",
       "      <td>...</td>\n",
       "    </tr>\n",
       "    <tr>\n",
       "      <th>1520</th>\n",
       "      <td>i enjoyed the part where i repeatedly asked if...</td>\n",
       "      <td>OrderProblem</td>\n",
       "      <td>OrderProblem</td>\n",
       "    </tr>\n",
       "    <tr>\n",
       "      <th>1521</th>\n",
       "      <td>worst mcdonalds ive been in in a long time dir...</td>\n",
       "      <td>SlowService\\rFilthy\\rBadFood</td>\n",
       "      <td>Filthy</td>\n",
       "    </tr>\n",
       "    <tr>\n",
       "      <th>1522</th>\n",
       "      <td>when i am really craving for mcdonalds this se...</td>\n",
       "      <td>ScaryMcDs</td>\n",
       "      <td>Filthy</td>\n",
       "    </tr>\n",
       "    <tr>\n",
       "      <th>1523</th>\n",
       "      <td>two points right out of the gate 1 thuggery kn...</td>\n",
       "      <td>ScaryMcDs</td>\n",
       "      <td>Filthy</td>\n",
       "    </tr>\n",
       "    <tr>\n",
       "      <th>1524</th>\n",
       "      <td>i wanted to grab breakfast one morning before ...</td>\n",
       "      <td>ScaryMcDs\\rSlowService</td>\n",
       "      <td>Filthy</td>\n",
       "    </tr>\n",
       "  </tbody>\n",
       "</table>\n",
       "<p>1176 rows × 3 columns</p>\n",
       "</div>"
      ],
      "text/plain": [
       "                                                 review  \\\n",
       "0     im not a huge mcds lover but ive been to bette...   \n",
       "1     terrible customer service i came in at 930pm a...   \n",
       "2     first they \"lost\" my order actually they gave ...   \n",
       "4     well its mcdonalds so you know what the food i...   \n",
       "5     this has to be one of the worst and slowest mc...   \n",
       "...                                                 ...   \n",
       "1520  i enjoyed the part where i repeatedly asked if...   \n",
       "1521  worst mcdonalds ive been in in a long time dir...   \n",
       "1522  when i am really craving for mcdonalds this se...   \n",
       "1523  two points right out of the gate 1 thuggery kn...   \n",
       "1524  i wanted to grab breakfast one morning before ...   \n",
       "\n",
       "                      policies_violated        policy  \n",
       "0     RudeService\\rOrderProblem\\rFilthy        Filthy  \n",
       "1                           RudeService   RudeService  \n",
       "2             SlowService\\rOrderProblem   SlowService  \n",
       "4                           RudeService   RudeService  \n",
       "5                  BadFood\\rSlowService       BadFood  \n",
       "...                                 ...           ...  \n",
       "1520                       OrderProblem  OrderProblem  \n",
       "1521       SlowService\\rFilthy\\rBadFood        Filthy  \n",
       "1522                          ScaryMcDs        Filthy  \n",
       "1523                          ScaryMcDs        Filthy  \n",
       "1524             ScaryMcDs\\rSlowService        Filthy  \n",
       "\n",
       "[1176 rows x 3 columns]"
      ]
     },
     "execution_count": 27,
     "metadata": {},
     "output_type": "execute_result"
    }
   ],
   "source": [
    "my_final_data[\"policy\"] = unif_labels\n",
    "my_final_data"
   ]
  },
  {
   "cell_type": "markdown",
   "id": "253d5b87",
   "metadata": {},
   "source": [
    "### Saving the prcossed and projected data into a file"
   ]
  },
  {
   "cell_type": "code",
   "execution_count": 28,
   "id": "ab0a3a64",
   "metadata": {},
   "outputs": [],
   "source": [
    "review_projected_label = my_final_data.loc[:, [\"review\", \"policy\"]]\n",
    "\n",
    "process_txt = []\n",
    "for item in np.array(review_projected_label):\n",
    "    process_txt.append(item[0] + \"\\t\" + item[1] +\"\\n\")\n",
    "\n",
    "with open(\"processed_file.txt\", \"w\", encoding='utf-8') as fh:\n",
    "    fh.write(\"\".join(process_txt))\n",
    "fh.close()\n",
    "    "
   ]
  }
 ],
 "metadata": {
  "kernelspec": {
   "display_name": "Python 3 (ipykernel)",
   "language": "python",
   "name": "python3"
  },
  "language_info": {
   "codemirror_mode": {
    "name": "ipython",
    "version": 3
   },
   "file_extension": ".py",
   "mimetype": "text/x-python",
   "name": "python",
   "nbconvert_exporter": "python",
   "pygments_lexer": "ipython3",
   "version": "3.9.7"
  }
 },
 "nbformat": 4,
 "nbformat_minor": 5
}
